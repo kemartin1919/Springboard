{
 "cells": [
  {
   "cell_type": "code",
   "execution_count": 1,
   "metadata": {},
   "outputs": [],
   "source": [
    "import pandas as pd\n",
    "import numpy as np\n",
    "from sklearn.preprocessing import StandardScaler\n",
    "\n",
    "df = pd.read_csv('~/Desktop/Springboard/CapstoneTwo/data/final_data.csv')"
   ]
  },
  {
   "cell_type": "code",
   "execution_count": 2,
   "metadata": {},
   "outputs": [
    {
     "name": "stdout",
     "output_type": "stream",
     "text": [
      "<class 'pandas.core.frame.DataFrame'>\n",
      "RangeIndex: 4565 entries, 0 to 4564\n",
      "Data columns (total 24 columns):\n",
      " #   Column                                                                                Non-Null Count  Dtype  \n",
      "---  ------                                                                                --------------  -----  \n",
      " 0   Hospital overall rating                                                               3435 non-null   float64\n",
      " 1   Mortality national comparison                                                         3199 non-null   float64\n",
      " 2   Readmission national comparison                                                       3580 non-null   float64\n",
      " 3   Patient experience national comparison                                                3229 non-null   float64\n",
      " 4   Effectiveness of care national comparison                                             3144 non-null   float64\n",
      " 5   Timeliness of care national comparison                                                3714 non-null   float64\n",
      " 6   Median Time Spent in Emergency Department Before Leaving                              3948 non-null   float64\n",
      " 7   Median Time Spent in Emergency Department After Doctor Decides to Admit as Inpatient  3873 non-null   float64\n",
      " 8   Median Household Income                                                               4532 non-null   float64\n",
      " 9   % of 25+ with High School Degree or Higher                                            4555 non-null   float64\n",
      " 10  % of 25+ with Bachelor Degree or Higher                                               4555 non-null   float64\n",
      " 11  Median Age                                                                            4553 non-null   float64\n",
      " 12  %65+                                                                                  4557 non-null   float64\n",
      " 13  %White                                                                                4557 non-null   float64\n",
      " 14  %Black                                                                                4557 non-null   float64\n",
      " 15  %Hispanic/Latino                                                                      4557 non-null   float64\n",
      " 16  Binned Hospital overall rating                                                        3435 non-null   object \n",
      " 17  Binned Patient Experience                                                             3229 non-null   object \n",
      " 18  Binned Timeliness of Care                                                             3714 non-null   object \n",
      " 19  (0, 30]                                                                               4565 non-null   int64  \n",
      " 20  (30, 40]                                                                              4565 non-null   int64  \n",
      " 21  (40, 50]                                                                              4565 non-null   int64  \n",
      " 22  (50, 60]                                                                              4565 non-null   int64  \n",
      " 23  (60, 100]                                                                             4565 non-null   int64  \n",
      "dtypes: float64(16), int64(5), object(3)\n",
      "memory usage: 856.1+ KB\n"
     ]
    }
   ],
   "source": [
    "df.info()"
   ]
  },
  {
   "cell_type": "markdown",
   "metadata": {},
   "source": [
    "# Predicting Binned Hospital Overall Rating"
   ]
  },
  {
   "cell_type": "code",
   "execution_count": 3,
   "metadata": {},
   "outputs": [
    {
     "name": "stderr",
     "output_type": "stream",
     "text": [
      "/Applications/anaconda3/lib/python3.7/site-packages/pandas/core/generic.py:6245: SettingWithCopyWarning: \n",
      "A value is trying to be set on a copy of a slice from a DataFrame\n",
      "\n",
      "See the caveats in the documentation: https://pandas.pydata.org/pandas-docs/stable/user_guide/indexing.html#returning-a-view-versus-a-copy\n",
      "  self._update_inplace(new_data)\n"
     ]
    }
   ],
   "source": [
    "df_new = df[df['Binned Hospital overall rating'].notna()]\n",
    "\n",
    "feature_cols = ['Median Household Income', '% of 25+ with High School Degree or Higher', '% of 25+ with Bachelor Degree or Higher', 'Median Age', '%65+', '%White', '%Black', '%Hispanic/Latino', '(0, 30]', '(30, 40]', '(40, 50]', '(50, 60]', '(60, 100]']\n",
    "features = df_new[feature_cols]\n",
    "\n",
    "features.fillna(features.mean(), inplace=True)\n",
    "\n",
    "y = df_new['Binned Hospital overall rating']\n",
    "X = features"
   ]
  },
  {
   "cell_type": "code",
   "execution_count": 4,
   "metadata": {
    "scrolled": true
   },
   "outputs": [
    {
     "name": "stderr",
     "output_type": "stream",
     "text": [
      "/Applications/anaconda3/lib/python3.7/site-packages/ipykernel_launcher.py:12: SettingWithCopyWarning: \n",
      "A value is trying to be set on a copy of a slice from a DataFrame.\n",
      "Try using .loc[row_indexer,col_indexer] = value instead\n",
      "\n",
      "See the caveats in the documentation: https://pandas.pydata.org/pandas-docs/stable/user_guide/indexing.html#returning-a-view-versus-a-copy\n",
      "  if sys.path[0] == '':\n",
      "/Applications/anaconda3/lib/python3.7/site-packages/pandas/core/indexing.py:966: SettingWithCopyWarning: \n",
      "A value is trying to be set on a copy of a slice from a DataFrame.\n",
      "Try using .loc[row_indexer,col_indexer] = value instead\n",
      "\n",
      "See the caveats in the documentation: https://pandas.pydata.org/pandas-docs/stable/user_guide/indexing.html#returning-a-view-versus-a-copy\n",
      "  self.obj[item] = s\n",
      "/Applications/anaconda3/lib/python3.7/site-packages/ipykernel_launcher.py:13: SettingWithCopyWarning: \n",
      "A value is trying to be set on a copy of a slice from a DataFrame.\n",
      "Try using .loc[row_indexer,col_indexer] = value instead\n",
      "\n",
      "See the caveats in the documentation: https://pandas.pydata.org/pandas-docs/stable/user_guide/indexing.html#returning-a-view-versus-a-copy\n",
      "  del sys.path[0]\n",
      "/Applications/anaconda3/lib/python3.7/site-packages/pandas/core/indexing.py:966: SettingWithCopyWarning: \n",
      "A value is trying to be set on a copy of a slice from a DataFrame.\n",
      "Try using .loc[row_indexer,col_indexer] = value instead\n",
      "\n",
      "See the caveats in the documentation: https://pandas.pydata.org/pandas-docs/stable/user_guide/indexing.html#returning-a-view-versus-a-copy\n",
      "  self.obj[item] = s\n"
     ]
    }
   ],
   "source": [
    "from sklearn.model_selection import train_test_split\n",
    "from sklearn.model_selection import cross_val_score\n",
    "from sklearn.preprocessing import MinMaxScaler\n",
    "from sklearn.model_selection import GridSearchCV\n",
    "from sklearn.metrics import accuracy_score\n",
    "from sklearn.metrics import confusion_matrix\n",
    "from sklearn.metrics import classification_report\n",
    "\n",
    "X_train, X_test, y_train, y_test = train_test_split(X, y, test_size=0.2, random_state=42)\n",
    "\n",
    "scaler_x = MinMaxScaler((-1,1))\n",
    "X_train[['Median Household Income', '% of 25+ with High School Degree or Higher', '% of 25+ with Bachelor Degree or Higher', 'Median Age', '%65+', '%White', '%Black', '%Hispanic/Latino']] = scaler_x.fit_transform(X_train[['Median Household Income', '% of 25+ with High School Degree or Higher', '% of 25+ with Bachelor Degree or Higher', 'Median Age', '%65+', '%White', '%Black', '%Hispanic/Latino']])\n",
    "X_test[['Median Household Income', '% of 25+ with High School Degree or Higher', '% of 25+ with Bachelor Degree or Higher', 'Median Age', '%65+', '%White', '%Black', '%Hispanic/Latino']] = scaler_x.transform(X_test[['Median Household Income', '% of 25+ with High School Degree or Higher', '% of 25+ with Bachelor Degree or Higher', 'Median Age', '%65+', '%White', '%Black', '%Hispanic/Latino']])"
   ]
  },
  {
   "cell_type": "markdown",
   "metadata": {},
   "source": [
    "Logistic Regression:"
   ]
  },
  {
   "cell_type": "code",
   "execution_count": 5,
   "metadata": {},
   "outputs": [],
   "source": [
    "from sklearn.linear_model import LogisticRegression\n",
    "\n",
    "Logreg = LogisticRegression(random_state=42)\n",
    "Logreg.fit(X_train,y_train)\n",
    "    \n",
    "y_pred_lr = Logreg.predict(X_test)"
   ]
  },
  {
   "cell_type": "code",
   "execution_count": 6,
   "metadata": {},
   "outputs": [
    {
     "name": "stdout",
     "output_type": "stream",
     "text": [
      "[[268 114]\n",
      " [126 179]]\n",
      "0.6506550218340611\n"
     ]
    }
   ],
   "source": [
    "cnf_matrix= confusion_matrix(y_test,y_pred_lr)\n",
    "print(cnf_matrix)\n",
    "Accuracy_lr=Logreg.score(X_test,y_test)\n",
    "\n",
    "print(Accuracy_lr)"
   ]
  },
  {
   "cell_type": "code",
   "execution_count": 7,
   "metadata": {},
   "outputs": [
    {
     "name": "stdout",
     "output_type": "stream",
     "text": [
      "[0.65084096 0.63934426 0.67709232 0.6958585  0.70319241]\n",
      "Mean cross validation test score: 0.6732656903062424\n",
      "Mean cross validation train score: 0.674898986924122\n",
      "Standard deviation in cv test scores: 0.024796040749333018\n"
     ]
    }
   ],
   "source": [
    "cv_scores_test= cross_val_score(Logreg,X_test,y_test,cv=5,scoring='roc_auc')\n",
    "cv_scores_train= cross_val_score(Logreg,X_train,y_train,cv=5,scoring='roc_auc')\n",
    "print(cv_scores_test)\n",
    "cv_scores_lr_test= cv_scores_test.mean()\n",
    "cv_scores_lr_train= cv_scores_train.mean()\n",
    "cv_scores_std_test_lr= cv_scores_test.std()\n",
    "print ('Mean cross validation test score: ' +str(cv_scores_lr_test))\n",
    "print ('Mean cross validation train score: ' +str(cv_scores_lr_train))\n",
    "print ('Standard deviation in cv test scores: ' +str(cv_scores_std_test_lr))"
   ]
  },
  {
   "cell_type": "markdown",
   "metadata": {},
   "source": [
    "Random Forest:"
   ]
  },
  {
   "cell_type": "code",
   "execution_count": 8,
   "metadata": {},
   "outputs": [],
   "source": [
    "from sklearn.ensemble import RandomForestClassifier\n",
    "\n",
    "rf = RandomForestClassifier(random_state=42)\n",
    "rf.fit(X_train, y_train)\n",
    "\n",
    "y_predict_rf = rf.predict(X_test)"
   ]
  },
  {
   "cell_type": "code",
   "execution_count": 9,
   "metadata": {},
   "outputs": [
    {
     "name": "stdout",
     "output_type": "stream",
     "text": [
      "[[285  97]\n",
      " [157 148]]\n",
      "0.6302765647743813\n"
     ]
    }
   ],
   "source": [
    "cnf_matrix = confusion_matrix(y_test, y_predict_rf)\n",
    "print(cnf_matrix)\n",
    "Accuracy_rf=rf.score(X_test,y_test)\n",
    "print(Accuracy_rf)"
   ]
  },
  {
   "cell_type": "code",
   "execution_count": 10,
   "metadata": {},
   "outputs": [
    {
     "name": "stdout",
     "output_type": "stream",
     "text": [
      "[0.64583777 0.62923142 0.62877481 0.62133305 0.66619931]\n",
      "Mean cross validation test score: 0.6382752708895936\n",
      "Mean cross validation train score: 0.6554574223884098\n",
      "Standard deviation in cv scores: 0.016099890127975323\n"
     ]
    }
   ],
   "source": [
    "cv_scores_test= cross_val_score(rf,X_test,y_test,cv=5,scoring='roc_auc')\n",
    "cv_scores_train= cross_val_score(rf,X_train,y_train,cv=5,scoring='roc_auc')\n",
    "print(cv_scores_test)\n",
    "cv_scores_rf_test= cv_scores_test.mean()\n",
    "cv_scores_rf_train= cv_scores_train.mean()\n",
    "cv_scores_std_rf= cv_scores_test.std()\n",
    "print ('Mean cross validation test score: ' +str(cv_scores_rf_test))\n",
    "print ('Mean cross validation train score: ' +str(cv_scores_rf_train))\n",
    "print ('Standard deviation in cv scores: ' +str(cv_scores_std_rf))"
   ]
  },
  {
   "cell_type": "markdown",
   "metadata": {},
   "source": [
    "Gradient Boosting:"
   ]
  },
  {
   "cell_type": "code",
   "execution_count": 11,
   "metadata": {},
   "outputs": [],
   "source": [
    "from sklearn.ensemble import ExtraTreesClassifier, GradientBoostingClassifier\n",
    "gbc = GradientBoostingClassifier(random_state=42)\n",
    "gbc.fit(X_train, y_train)\n",
    "\n",
    "y_predict_gbc = gbc.predict(X_test)"
   ]
  },
  {
   "cell_type": "code",
   "execution_count": 12,
   "metadata": {},
   "outputs": [
    {
     "name": "stdout",
     "output_type": "stream",
     "text": [
      "[[285  97]\n",
      " [154 151]]\n",
      "0.6346433770014556\n"
     ]
    }
   ],
   "source": [
    "cnf_matrix = confusion_matrix(y_test, y_predict_gbc)\n",
    "print(cnf_matrix)\n",
    "Accuracy_gbc=gbc.score(X_test,y_test)\n",
    "print(Accuracy_gbc)"
   ]
  },
  {
   "cell_type": "code",
   "execution_count": 13,
   "metadata": {},
   "outputs": [
    {
     "name": "stdout",
     "output_type": "stream",
     "text": [
      "[0.65211837 0.65041516 0.64257981 0.62791199 0.67924935]\n",
      "Mean cross validation test score: 0.650454937642168\n",
      "Mean cross validation train score: 0.6612468741186663\n",
      "Standard deviation in cv scores: 0.016745679632374583\n"
     ]
    }
   ],
   "source": [
    "cv_scores_test= cross_val_score(gbc,X_test,y_test,cv=5,scoring='roc_auc')\n",
    "cv_scores_train= cross_val_score(gbc,X_train,y_train,cv=5,scoring='roc_auc')\n",
    "print(cv_scores_test)\n",
    "cv_scores_gbc_test= cv_scores_test.mean()\n",
    "cv_scores_gbc_train= cv_scores_train.mean()\n",
    "cv_scores_std_gbc= cv_scores_test.std()\n",
    "print ('Mean cross validation test score: ' +str(cv_scores_gbc_test))\n",
    "print ('Mean cross validation train score: ' +str(cv_scores_gbc_train))\n",
    "print ('Standard deviation in cv scores: ' +str(cv_scores_std_gbc))"
   ]
  },
  {
   "cell_type": "markdown",
   "metadata": {},
   "source": [
    "Hyperparameter Tuning:"
   ]
  },
  {
   "cell_type": "markdown",
   "metadata": {},
   "source": [
    "Logistic Regression Grid Search:"
   ]
  },
  {
   "cell_type": "code",
   "execution_count": 14,
   "metadata": {},
   "outputs": [
    {
     "name": "stdout",
     "output_type": "stream",
     "text": [
      "LogisticRegression(C=0.18420699693267145, random_state=42)\n",
      "0.6426491994177584\n"
     ]
    }
   ],
   "source": [
    "Logreg = LogisticRegression(random_state=42)\n",
    "\n",
    "param_grid = { \"penalty\" : ['l1', 'l2'], \"C\" : np.logspace(-4, 4, 50)}\n",
    "\n",
    "gs = GridSearchCV(estimator=Logreg, param_grid=param_grid, scoring='accuracy', cv=3, n_jobs=-1)\n",
    "\n",
    "gs = gs.fit(X_train, y_train)\n",
    "\n",
    "print(gs.best_estimator_) \n",
    "print(gs.best_score_)"
   ]
  },
  {
   "cell_type": "code",
   "execution_count": 15,
   "metadata": {},
   "outputs": [
    {
     "name": "stdout",
     "output_type": "stream",
     "text": [
      "0.6302765647743813\n",
      "0.6725709579462815\n"
     ]
    }
   ],
   "source": [
    "Logreg = LogisticRegression(C=0.18420699693267145, random_state=42)\n",
    "\n",
    "Logreg.fit(X_train, y_train)\n",
    "y_predictions_lr = rf.predict(X_test)\n",
    "acc = accuracy_score(y_test, y_predictions_lr)\n",
    "cv = cross_val_score(Logreg, X_test, y_test,scoring='roc_auc').mean()\n",
    "print(acc)\n",
    "print(cv)"
   ]
  },
  {
   "cell_type": "markdown",
   "metadata": {},
   "source": [
    "Gradient Boosting Grid Search:"
   ]
  },
  {
   "cell_type": "code",
   "execution_count": 16,
   "metadata": {},
   "outputs": [
    {
     "name": "stdout",
     "output_type": "stream",
     "text": [
      "Fitting 3 folds for each of 72 candidates, totalling 216 fits\n"
     ]
    },
    {
     "name": "stderr",
     "output_type": "stream",
     "text": [
      "[Parallel(n_jobs=-1)]: Using backend LokyBackend with 4 concurrent workers.\n",
      "[Parallel(n_jobs=-1)]: Done  42 tasks      | elapsed:    4.7s\n",
      "[Parallel(n_jobs=-1)]: Done 192 tasks      | elapsed:   21.4s\n",
      "[Parallel(n_jobs=-1)]: Done 216 out of 216 | elapsed:   24.0s finished\n"
     ]
    },
    {
     "name": "stdout",
     "output_type": "stream",
     "text": [
      "GradientBoostingClassifier(learning_rate=0.01, max_depth=8, max_features=0.3,\n",
      "                           min_samples_leaf=150, n_estimators=300,\n",
      "                           random_state=42)\n",
      "0.6564774381368267\n"
     ]
    }
   ],
   "source": [
    "GB = GradientBoostingClassifier(random_state=42)\n",
    "gb_param = {\n",
    "        'loss' : [\"deviance\"],\n",
    "        'n_estimators' : [100,200,300],\n",
    "        'learning_rate': [0.1, 0.05, 0.01],\n",
    "        'max_depth': [4, 8],\n",
    "        'min_samples_leaf': [100,150],\n",
    "        'max_features': [0.3, 0.1] \n",
    "        }\n",
    "\n",
    "gsGB = GridSearchCV(GB, param_grid = gb_param, cv=3, scoring=\"accuracy\", n_jobs= -1, verbose = 1)\n",
    "gsGB.fit(X_train,y_train)\n",
    "print(gsGB.best_estimator_)\n",
    "print(gsGB.best_score_)"
   ]
  },
  {
   "cell_type": "code",
   "execution_count": 17,
   "metadata": {},
   "outputs": [
    {
     "name": "stdout",
     "output_type": "stream",
     "text": [
      "0.6346433770014556\n",
      "0.6706209450601168\n"
     ]
    }
   ],
   "source": [
    "GB = GradientBoostingClassifier(learning_rate=0.01, max_depth=8, max_features=0.3,\n",
    "                           min_samples_leaf=150, n_estimators=300,\n",
    "                           random_state=42)\n",
    "GB.fit(X_train, y_train)\n",
    "y_predictions_GB = GB.predict(X_test)\n",
    "acc_GB = accuracy_score(y_test, y_predictions_GB)\n",
    "cv_GB = cross_val_score(GB, X_test, y_test,scoring='roc_auc').mean()\n",
    "print(acc_GB)\n",
    "print(cv_GB)"
   ]
  },
  {
   "cell_type": "code",
   "execution_count": 18,
   "metadata": {},
   "outputs": [
    {
     "name": "stdout",
     "output_type": "stream",
     "text": [
      "                                      Features  Importance scores\n",
      "0                      Median Household Income       0.000000e+00\n",
      "1   % of 25+ with High School Degree or Higher       0.000000e+00\n",
      "2      % of 25+ with Bachelor Degree or Higher       4.455808e-09\n",
      "3                                   Median Age       2.441144e-03\n",
      "4                                         %65+       3.627869e-03\n",
      "5                                       %White       4.193362e-02\n",
      "6                                       %Black       4.542240e-02\n",
      "7                             %Hispanic/Latino       7.368342e-02\n",
      "8                                      (0, 30]       9.040706e-02\n",
      "9                                     (30, 40]       9.687363e-02\n",
      "10                                    (40, 50]       1.846302e-01\n",
      "11                                    (50, 60]       2.195448e-01\n",
      "12                                   (60, 100]       2.414358e-01\n"
     ]
    },
    {
     "data": {
      "image/png": "[encoded data removed]",
      "text/plain": [
       "<Figure size 720x360 with 1 Axes>"
      ]
     },
     "metadata": {
      "needs_background": "light"
     },
     "output_type": "display_data"
    }
   ],
   "source": [
    "import matplotlib.pyplot as plt\n",
    "\n",
    "features = X\n",
    "importances = list(GB.feature_importances_)\n",
    "imp=np.sort(importances)\n",
    "tab=pd.DataFrame(list(zip(X,imp)),columns =['Features', 'Importance scores']) \n",
    "print(tab)\n",
    "\n",
    "#visually:\n",
    "plt.figure(figsize=(10,5))\n",
    "#indices = np.argsort(importances)\n",
    "index = [0,1,2,3,4,5,6,7,8,9,10,11,12]\n",
    "_=plt.barh(index,imp, align='center',color='gold',edgecolor='k')\n",
    "plt.xlabel('Relative Importance',fontsize=15)\n",
    "plt.ylabel('Features',fontsize=15)\n",
    "plt.yticks(index, features)\n",
    "plt.title('Feature Importances for Gradient boost Classifier model',fontsize=15)\n",
    "plt.show()"
   ]
  },
  {
   "cell_type": "code",
   "execution_count": 19,
   "metadata": {},
   "outputs": [
    {
     "name": "stdout",
     "output_type": "stream",
     "text": [
      "ROC-AUC Score: 0.6907432838382972\n"
     ]
    }
   ],
   "source": [
    "from sklearn.metrics import auc, roc_curve, roc_auc_score\n",
    "y_scores_gb = GB.predict_proba(X_test)\n",
    "y_scores_gb = y_scores_gb[:,1]\n",
    "auroc = roc_auc_score(y_test, y_scores_gb)\n",
    "print(\"ROC-AUC Score:\", auroc)"
   ]
  },
  {
   "cell_type": "markdown",
   "metadata": {},
   "source": [
    "Random Forest Grid Search:"
   ]
  },
  {
   "cell_type": "code",
   "execution_count": 20,
   "metadata": {},
   "outputs": [
    {
     "name": "stdout",
     "output_type": "stream",
     "text": [
      "RandomForestClassifier(min_samples_leaf=10, n_estimators=1000, n_jobs=-1,\n",
      "                       random_state=1)\n",
      "0.6495633187772926\n"
     ]
    }
   ],
   "source": [
    "rf = RandomForestClassifier(max_features='auto',random_state=1, n_jobs=-1)\n",
    "\n",
    "param_grid = { \"criterion\" : [\"gini\", \"entropy\"], \"min_samples_leaf\" : [1, 5, 10], \"min_samples_split\" : [2, 4, 10,12,16], \"n_estimators\": [50, 100,400,700,1000]}\n",
    "\n",
    "gs = GridSearchCV(estimator=rf, param_grid=param_grid, scoring='accuracy', cv=3, n_jobs=-1)\n",
    "\n",
    "gs = gs.fit(X_train, y_train)\n",
    "\n",
    "print(gs.best_estimator_) \n",
    "print(gs.best_score_)"
   ]
  },
  {
   "cell_type": "code",
   "execution_count": 21,
   "metadata": {},
   "outputs": [
    {
     "name": "stdout",
     "output_type": "stream",
     "text": [
      "0.636098981077147\n",
      "0.6633971291866029\n"
     ]
    }
   ],
   "source": [
    "rf = RandomForestClassifier(min_samples_leaf=10, n_estimators=1000, n_jobs=-1,\n",
    "                       random_state=1) \n",
    "rf.fit(X_train, y_train)\n",
    "y_predictions_rf = rf.predict(X_test)\n",
    "acc = accuracy_score(y_test, y_predictions_rf)\n",
    "cv = cross_val_score(rf, X_test, y_test,scoring='roc_auc').mean()\n",
    "print(acc)\n",
    "print(cv)"
   ]
  },
  {
   "cell_type": "code",
   "execution_count": 68,
   "metadata": {},
   "outputs": [
    {
     "name": "stdout",
     "output_type": "stream",
     "text": [
      "                                      Features  Importance scores\n",
      "0                      Median Household Income           0.000770\n",
      "1   % of 25+ with High School Degree or Higher           0.002559\n",
      "2      % of 25+ with Bachelor Degree or Higher           0.002739\n",
      "3                                   Median Age           0.006817\n",
      "4                                         %65+           0.006938\n",
      "5                                       %White           0.098145\n",
      "6                                       %Black           0.109945\n",
      "7                             %Hispanic/Latino           0.116246\n",
      "8                                      (0, 30]           0.116995\n",
      "9                                     (30, 40]           0.121133\n",
      "10                                    (40, 50]           0.124306\n",
      "11                                    (50, 60]           0.133202\n",
      "12                                   (60, 100]           0.160206\n"
     ]
    },
    {
     "data": {
      "image/png": "[encoded data removed]",
      "text/plain": [
       "<Figure size 720x360 with 1 Axes>"
      ]
     },
     "metadata": {
      "needs_background": "light"
     },
     "output_type": "display_data"
    }
   ],
   "source": [
    "features = X\n",
    "importances = list(rf.feature_importances_)\n",
    "imp=np.sort(importances)\n",
    "tab=pd.DataFrame(list(zip(X,imp)),columns =['Features', 'Importance scores']) \n",
    "print(tab)\n",
    "\n",
    "#Visual comparison:\n",
    "plt.figure(figsize=(10,5))\n",
    "#indices = np.argsort(importances)\n",
    "index = [0,1,2,3,4,5,6,7,8,9,10,11,12]\n",
    "_=plt.barh(index,imp, align='center',color='b')\n",
    "plt.xlabel('Relative Importance',fontsize=15)\n",
    "plt.ylabel('Features',fontsize=15)\n",
    "plt.yticks(index, features)\n",
    "plt.title('Feature Importances for Random Forest Classifier: Overall Hospital Rating',fontsize=15)\n",
    "plt.show()"
   ]
  },
  {
   "cell_type": "code",
   "execution_count": 23,
   "metadata": {},
   "outputs": [
    {
     "name": "stdout",
     "output_type": "stream",
     "text": [
      "ROC-AUC Score: 0.6914041713157668\n"
     ]
    }
   ],
   "source": [
    "from sklearn.metrics import auc, roc_curve, roc_auc_score\n",
    "y_scores_rf = rf.predict_proba(X_test)\n",
    "y_scores_rf = y_scores_rf[:,1]\n",
    "auroc = roc_auc_score(y_test, y_scores_rf)\n",
    "print(\"ROC-AUC Score:\", auroc)"
   ]
  },
  {
   "cell_type": "markdown",
   "metadata": {},
   "source": [
    "# Predicting Patient Experience National Comparison"
   ]
  },
  {
   "cell_type": "code",
   "execution_count": 24,
   "metadata": {},
   "outputs": [
    {
     "name": "stderr",
     "output_type": "stream",
     "text": [
      "/Applications/anaconda3/lib/python3.7/site-packages/pandas/core/generic.py:6245: SettingWithCopyWarning: \n",
      "A value is trying to be set on a copy of a slice from a DataFrame\n",
      "\n",
      "See the caveats in the documentation: https://pandas.pydata.org/pandas-docs/stable/user_guide/indexing.html#returning-a-view-versus-a-copy\n",
      "  self._update_inplace(new_data)\n"
     ]
    }
   ],
   "source": [
    "df_new = df[df['Binned Patient Experience'].notna()]\n",
    "\n",
    "feature_cols = ['Median Household Income', '% of 25+ with High School Degree or Higher', '% of 25+ with Bachelor Degree or Higher', 'Median Age', '%65+', '%White', '%Black', '%Hispanic/Latino', '(0, 30]', '(30, 40]', '(40, 50]', '(50, 60]', '(60, 100]']\n",
    "features = df_new[feature_cols]\n",
    "\n",
    "features.fillna(features.mean(), inplace=True)\n",
    "\n",
    "y = df_new['Binned Patient Experience']\n",
    "X = features"
   ]
  },
  {
   "cell_type": "code",
   "execution_count": 25,
   "metadata": {},
   "outputs": [
    {
     "name": "stderr",
     "output_type": "stream",
     "text": [
      "/Applications/anaconda3/lib/python3.7/site-packages/ipykernel_launcher.py:4: SettingWithCopyWarning: \n",
      "A value is trying to be set on a copy of a slice from a DataFrame.\n",
      "Try using .loc[row_indexer,col_indexer] = value instead\n",
      "\n",
      "See the caveats in the documentation: https://pandas.pydata.org/pandas-docs/stable/user_guide/indexing.html#returning-a-view-versus-a-copy\n",
      "  after removing the cwd from sys.path.\n",
      "/Applications/anaconda3/lib/python3.7/site-packages/pandas/core/indexing.py:966: SettingWithCopyWarning: \n",
      "A value is trying to be set on a copy of a slice from a DataFrame.\n",
      "Try using .loc[row_indexer,col_indexer] = value instead\n",
      "\n",
      "See the caveats in the documentation: https://pandas.pydata.org/pandas-docs/stable/user_guide/indexing.html#returning-a-view-versus-a-copy\n",
      "  self.obj[item] = s\n",
      "/Applications/anaconda3/lib/python3.7/site-packages/ipykernel_launcher.py:5: SettingWithCopyWarning: \n",
      "A value is trying to be set on a copy of a slice from a DataFrame.\n",
      "Try using .loc[row_indexer,col_indexer] = value instead\n",
      "\n",
      "See the caveats in the documentation: https://pandas.pydata.org/pandas-docs/stable/user_guide/indexing.html#returning-a-view-versus-a-copy\n",
      "  \"\"\"\n",
      "/Applications/anaconda3/lib/python3.7/site-packages/pandas/core/indexing.py:966: SettingWithCopyWarning: \n",
      "A value is trying to be set on a copy of a slice from a DataFrame.\n",
      "Try using .loc[row_indexer,col_indexer] = value instead\n",
      "\n",
      "See the caveats in the documentation: https://pandas.pydata.org/pandas-docs/stable/user_guide/indexing.html#returning-a-view-versus-a-copy\n",
      "  self.obj[item] = s\n"
     ]
    }
   ],
   "source": [
    "X_train, X_test, y_train, y_test = train_test_split(X, y, test_size=0.2, random_state=42)\n",
    "\n",
    "scaler_x = MinMaxScaler((-1,1))\n",
    "X_train[['Median Household Income', '% of 25+ with High School Degree or Higher', '% of 25+ with Bachelor Degree or Higher', 'Median Age', '%65+', '%White', '%Black', '%Hispanic/Latino']] = scaler_x.fit_transform(X_train[['Median Household Income', '% of 25+ with High School Degree or Higher', '% of 25+ with Bachelor Degree or Higher', 'Median Age', '%65+', '%White', '%Black', '%Hispanic/Latino']])\n",
    "X_test[['Median Household Income', '% of 25+ with High School Degree or Higher', '% of 25+ with Bachelor Degree or Higher', 'Median Age', '%65+', '%White', '%Black', '%Hispanic/Latino']] = scaler_x.transform(X_test[['Median Household Income', '% of 25+ with High School Degree or Higher', '% of 25+ with Bachelor Degree or Higher', 'Median Age', '%65+', '%White', '%Black', '%Hispanic/Latino']])"
   ]
  },
  {
   "cell_type": "markdown",
   "metadata": {},
   "source": [
    "Logistic Regression:"
   ]
  },
  {
   "cell_type": "code",
   "execution_count": 26,
   "metadata": {},
   "outputs": [],
   "source": [
    "Logreg = LogisticRegression(random_state=42)\n",
    "Logreg.fit(X_train,y_train)\n",
    "    \n",
    "y_pred_lr = Logreg.predict(X_test)"
   ]
  },
  {
   "cell_type": "code",
   "execution_count": 27,
   "metadata": {},
   "outputs": [
    {
     "name": "stdout",
     "output_type": "stream",
     "text": [
      "[[391  47]\n",
      " [148  60]]\n",
      "0.6981424148606811\n"
     ]
    }
   ],
   "source": [
    "cnf_matrix= confusion_matrix(y_test,y_pred_lr)\n",
    "print(cnf_matrix)\n",
    "Accuracy_lr=Logreg.score(X_test,y_test)\n",
    "\n",
    "print(Accuracy_lr)"
   ]
  },
  {
   "cell_type": "code",
   "execution_count": 28,
   "metadata": {},
   "outputs": [
    {
     "name": "stdout",
     "output_type": "stream",
     "text": [
      "[0.66179654 0.6962306  0.64966741 0.6483306  0.64846743]\n",
      "Mean cross validation test score: 0.6608985141575554\n",
      "Mean cross validation train score: 0.6991823395103548\n",
      "Standard deviation in cv test scores: 0.01837272308564701\n"
     ]
    }
   ],
   "source": [
    "cv_scores_test= cross_val_score(Logreg,X_test,y_test,cv=5,scoring='roc_auc')\n",
    "cv_scores_train= cross_val_score(Logreg,X_train,y_train,cv=5,scoring='roc_auc')\n",
    "print(cv_scores_test)\n",
    "cv_scores_lr_test= cv_scores_test.mean()\n",
    "cv_scores_lr_train= cv_scores_train.mean()\n",
    "cv_scores_std_test_lr= cv_scores_test.std()\n",
    "print ('Mean cross validation test score: ' +str(cv_scores_lr_test))\n",
    "print ('Mean cross validation train score: ' +str(cv_scores_lr_train))\n",
    "print ('Standard deviation in cv test scores: ' +str(cv_scores_std_test_lr))"
   ]
  },
  {
   "cell_type": "markdown",
   "metadata": {},
   "source": [
    "Random Forest:"
   ]
  },
  {
   "cell_type": "code",
   "execution_count": 29,
   "metadata": {},
   "outputs": [],
   "source": [
    "rf = RandomForestClassifier(random_state=42)\n",
    "rf.fit(X_train, y_train)\n",
    "\n",
    "y_predict_rf = rf.predict(X_test)"
   ]
  },
  {
   "cell_type": "code",
   "execution_count": 30,
   "metadata": {},
   "outputs": [
    {
     "name": "stdout",
     "output_type": "stream",
     "text": [
      "[[362  76]\n",
      " [119  89]]\n",
      "0.6981424148606811\n"
     ]
    }
   ],
   "source": [
    "cnf_matrix = confusion_matrix(y_test, y_predict_rf)\n",
    "print(cnf_matrix)\n",
    "Accuracy_rf=rf.score(X_test,y_test)\n",
    "print(Accuracy_rf)"
   ]
  },
  {
   "cell_type": "code",
   "execution_count": 31,
   "metadata": {},
   "outputs": [
    {
     "name": "stdout",
     "output_type": "stream",
     "text": [
      "[0.66991342 0.67142461 0.65521064 0.67788725 0.57471264]\n",
      "Mean cross validation test score: 0.6498297130866517\n",
      "Mean cross validation train score: 0.6921474030995164\n",
      "Standard deviation in cv scores: 0.03828432750431466\n"
     ]
    }
   ],
   "source": [
    "cv_scores_test= cross_val_score(rf,X_test,y_test,cv=5,scoring='roc_auc')\n",
    "cv_scores_train= cross_val_score(rf,X_train,y_train,cv=5,scoring='roc_auc')\n",
    "print(cv_scores_test)\n",
    "cv_scores_rf_test= cv_scores_test.mean()\n",
    "cv_scores_rf_train= cv_scores_train.mean()\n",
    "cv_scores_std_rf= cv_scores_test.std()\n",
    "print ('Mean cross validation test score: ' +str(cv_scores_rf_test))\n",
    "print ('Mean cross validation train score: ' +str(cv_scores_rf_train))\n",
    "print ('Standard deviation in cv scores: ' +str(cv_scores_std_rf))"
   ]
  },
  {
   "cell_type": "markdown",
   "metadata": {},
   "source": [
    "Gradient Boosting:"
   ]
  },
  {
   "cell_type": "code",
   "execution_count": 32,
   "metadata": {},
   "outputs": [],
   "source": [
    "gbc = GradientBoostingClassifier(random_state=42)\n",
    "gbc.fit(X_train, y_train)\n",
    "\n",
    "y_predict_gbc = gbc.predict(X_test)"
   ]
  },
  {
   "cell_type": "code",
   "execution_count": 33,
   "metadata": {},
   "outputs": [
    {
     "name": "stdout",
     "output_type": "stream",
     "text": [
      "[[370  68]\n",
      " [126  82]]\n",
      "0.6996904024767802\n"
     ]
    }
   ],
   "source": [
    "cnf_matrix = confusion_matrix(y_test, y_predict_gbc)\n",
    "print(cnf_matrix)\n",
    "Accuracy_gbc=gbc.score(X_test,y_test)\n",
    "print(Accuracy_gbc)"
   ]
  },
  {
   "cell_type": "code",
   "execution_count": 34,
   "metadata": {},
   "outputs": [
    {
     "name": "stdout",
     "output_type": "stream",
     "text": [
      "[0.63528139 0.62361419 0.58841463 0.66119321 0.59209086]\n",
      "Mean cross validation test score: 0.6201188564729355\n",
      "Mean cross validation train score: 0.6956026702017202\n",
      "Standard deviation in cv scores: 0.027276175448598016\n"
     ]
    }
   ],
   "source": [
    "cv_scores_test= cross_val_score(gbc,X_test,y_test,cv=5,scoring='roc_auc')\n",
    "cv_scores_train= cross_val_score(gbc,X_train,y_train,cv=5,scoring='roc_auc')\n",
    "print(cv_scores_test)\n",
    "cv_scores_gbc_test= cv_scores_test.mean()\n",
    "cv_scores_gbc_train= cv_scores_train.mean()\n",
    "cv_scores_std_gbc= cv_scores_test.std()\n",
    "print ('Mean cross validation test score: ' +str(cv_scores_gbc_test))\n",
    "print ('Mean cross validation train score: ' +str(cv_scores_gbc_train))\n",
    "print ('Standard deviation in cv scores: ' +str(cv_scores_std_gbc))"
   ]
  },
  {
   "cell_type": "markdown",
   "metadata": {},
   "source": [
    "Hyperparameter Tuning:"
   ]
  },
  {
   "cell_type": "markdown",
   "metadata": {},
   "source": [
    "Logistic Regression Grid Search:"
   ]
  },
  {
   "cell_type": "code",
   "execution_count": 35,
   "metadata": {},
   "outputs": [
    {
     "name": "stdout",
     "output_type": "stream",
     "text": [
      "LogisticRegression(C=0.3906939937054613, random_state=42)\n",
      "0.6713124274099883\n"
     ]
    }
   ],
   "source": [
    "Logreg = LogisticRegression(random_state=42)\n",
    "\n",
    "param_grid = { \"penalty\" : ['l1', 'l2'], \"C\" : np.logspace(-4, 4, 50)}\n",
    "\n",
    "gs = GridSearchCV(estimator=Logreg, param_grid=param_grid, scoring='accuracy', cv=3, n_jobs=-1)\n",
    "\n",
    "gs = gs.fit(X_train, y_train)\n",
    "\n",
    "print(gs.best_estimator_) \n",
    "print(gs.best_score_)"
   ]
  },
  {
   "cell_type": "code",
   "execution_count": 36,
   "metadata": {},
   "outputs": [
    {
     "name": "stdout",
     "output_type": "stream",
     "text": [
      "0.6981424148606811\n",
      "0.667372860528874\n"
     ]
    }
   ],
   "source": [
    "Logreg = LogisticRegression(C=0.3906939937054613, random_state=42)\n",
    "\n",
    "Logreg.fit(X_train, y_train)\n",
    "y_predictions_lr = rf.predict(X_test)\n",
    "acc = accuracy_score(y_test, y_predictions_lr)\n",
    "cv = cross_val_score(Logreg, X_test, y_test,scoring='roc_auc').mean()\n",
    "print(acc)\n",
    "print(cv)"
   ]
  },
  {
   "cell_type": "markdown",
   "metadata": {},
   "source": [
    "Gradient Boosting Grid Search:"
   ]
  },
  {
   "cell_type": "code",
   "execution_count": 37,
   "metadata": {},
   "outputs": [
    {
     "name": "stdout",
     "output_type": "stream",
     "text": [
      "Fitting 3 folds for each of 72 candidates, totalling 216 fits\n"
     ]
    },
    {
     "name": "stderr",
     "output_type": "stream",
     "text": [
      "[Parallel(n_jobs=-1)]: Using backend LokyBackend with 4 concurrent workers.\n",
      "[Parallel(n_jobs=-1)]: Done  42 tasks      | elapsed:    4.5s\n",
      "[Parallel(n_jobs=-1)]: Done 192 tasks      | elapsed:   21.0s\n",
      "[Parallel(n_jobs=-1)]: Done 216 out of 216 | elapsed:   23.4s finished\n"
     ]
    },
    {
     "name": "stdout",
     "output_type": "stream",
     "text": [
      "GradientBoostingClassifier(max_depth=8, max_features=0.1, min_samples_leaf=150,\n",
      "                           n_estimators=300, random_state=42)\n",
      "0.6945412311265969\n"
     ]
    }
   ],
   "source": [
    "GB = GradientBoostingClassifier(random_state=42)\n",
    "gb_param = {\n",
    "        'loss' : [\"deviance\"],\n",
    "        'n_estimators' : [100,200,300],\n",
    "        'learning_rate': [0.1, 0.05, 0.01],\n",
    "        'max_depth': [4, 8],\n",
    "        'min_samples_leaf': [100,150],\n",
    "        'max_features': [0.3, 0.1] \n",
    "        }\n",
    "\n",
    "gsGB = GridSearchCV(GB, param_grid = gb_param, cv=3, scoring=\"accuracy\", n_jobs= -1, verbose = 1)\n",
    "gsGB.fit(X_train,y_train)\n",
    "print(gsGB.best_estimator_)\n",
    "print(gsGB.best_score_)"
   ]
  },
  {
   "cell_type": "code",
   "execution_count": 38,
   "metadata": {},
   "outputs": [
    {
     "name": "stdout",
     "output_type": "stream",
     "text": [
      "0.6996904024767802\n",
      "0.667516341475551\n"
     ]
    }
   ],
   "source": [
    "GB = GradientBoostingClassifier(max_depth=8, max_features=0.1, min_samples_leaf=150,\n",
    "                           n_estimators=300, random_state=42)\n",
    "GB.fit(X_train, y_train)\n",
    "y_predictions_GB = GB.predict(X_test)\n",
    "acc_GB = accuracy_score(y_test, y_predictions_GB)\n",
    "cv_GB = cross_val_score(GB, X_test, y_test,scoring='roc_auc').mean()\n",
    "print(acc_GB)\n",
    "print(cv_GB)"
   ]
  },
  {
   "cell_type": "code",
   "execution_count": 67,
   "metadata": {},
   "outputs": [
    {
     "name": "stdout",
     "output_type": "stream",
     "text": [
      "                                      Features  Importance scores\n",
      "0                      Median Household Income           0.000000\n",
      "1   % of 25+ with High School Degree or Higher           0.000477\n",
      "2      % of 25+ with Bachelor Degree or Higher           0.000478\n",
      "3                                   Median Age           0.003537\n",
      "4                                         %65+           0.005587\n",
      "5                                       %White           0.056518\n",
      "6                                       %Black           0.084082\n",
      "7                             %Hispanic/Latino           0.087396\n",
      "8                                      (0, 30]           0.089108\n",
      "9                                     (30, 40]           0.113085\n",
      "10                                    (40, 50]           0.122436\n",
      "11                                    (50, 60]           0.159835\n",
      "12                                   (60, 100]           0.277461\n"
     ]
    },
    {
     "data": {
      "image/png": "[encoded data removed]",
      "text/plain": [
       "<Figure size 720x360 with 1 Axes>"
      ]
     },
     "metadata": {
      "needs_background": "light"
     },
     "output_type": "display_data"
    }
   ],
   "source": [
    "features = X\n",
    "importances = list(GB.feature_importances_)\n",
    "imp=np.sort(importances)\n",
    "tab=pd.DataFrame(list(zip(X,imp)),columns =['Features', 'Importance scores']) \n",
    "print(tab)\n",
    "\n",
    "#visually:\n",
    "plt.figure(figsize=(10,5))\n",
    "#indices = np.argsort(importances)\n",
    "index = [0,1,2,3,4,5,6,7,8,9,10,11,12]\n",
    "_=plt.barh(index,imp, align='center',color='gold',edgecolor='k')\n",
    "plt.xlabel('Relative Importance',fontsize=15)\n",
    "plt.ylabel('Features',fontsize=15)\n",
    "plt.yticks(index, features)\n",
    "plt.title('Feature Importances for Gradient Boost Classifier: Patient Experience',fontsize=15)\n",
    "plt.show()"
   ]
  },
  {
   "cell_type": "code",
   "execution_count": 40,
   "metadata": {},
   "outputs": [
    {
     "name": "stdout",
     "output_type": "stream",
     "text": [
      "ROC-AUC Score: 0.6821873902353355\n"
     ]
    }
   ],
   "source": [
    "from sklearn.metrics import auc, roc_curve, roc_auc_score\n",
    "y_scores_gb = GB.predict_proba(X_test)\n",
    "y_scores_gb = y_scores_gb[:,1]\n",
    "auroc = roc_auc_score(y_test, y_scores_gb)\n",
    "print(\"ROC-AUC Score:\", auroc)"
   ]
  },
  {
   "cell_type": "markdown",
   "metadata": {},
   "source": [
    "Random Forest Grid Search:"
   ]
  },
  {
   "cell_type": "code",
   "execution_count": 41,
   "metadata": {},
   "outputs": [
    {
     "name": "stdout",
     "output_type": "stream",
     "text": [
      "RandomForestClassifier(criterion='entropy', min_samples_split=12,\n",
      "                       n_estimators=700, n_jobs=-1, random_state=1)\n",
      "0.6929926442121565\n"
     ]
    }
   ],
   "source": [
    "rf = RandomForestClassifier(max_features='auto',random_state=1, n_jobs=-1)\n",
    "\n",
    "param_grid = { \"criterion\" : [\"gini\", \"entropy\"], \"min_samples_leaf\" : [1, 5, 10], \"min_samples_split\" : [2, 4, 10,12,16], \"n_estimators\": [50, 100,400,700,1000]}\n",
    "\n",
    "gs = GridSearchCV(estimator=rf, param_grid=param_grid, scoring='accuracy', cv=3, n_jobs=-1)\n",
    "\n",
    "gs = gs.fit(X_train, y_train)\n",
    "\n",
    "print(gs.best_estimator_) \n",
    "print(gs.best_score_)"
   ]
  },
  {
   "cell_type": "code",
   "execution_count": 42,
   "metadata": {},
   "outputs": [
    {
     "name": "stdout",
     "output_type": "stream",
     "text": [
      "0.6888544891640866\n",
      "0.668606390105549\n"
     ]
    }
   ],
   "source": [
    "rf = RandomForestClassifier(criterion='entropy', min_samples_split=12,\n",
    "                       n_estimators=700, n_jobs=-1, random_state=1)\n",
    "\n",
    "rf.fit(X_train, y_train)\n",
    "y_predictions_rf = rf.predict(X_test)\n",
    "acc = accuracy_score(y_test, y_predictions_rf)\n",
    "cv = cross_val_score(rf, X_test, y_test,scoring='roc_auc').mean()\n",
    "print(acc)\n",
    "print(cv)"
   ]
  },
  {
   "cell_type": "code",
   "execution_count": 43,
   "metadata": {},
   "outputs": [
    {
     "name": "stdout",
     "output_type": "stream",
     "text": [
      "                                      Features  Importance scores\n",
      "0                      Median Household Income           0.001836\n",
      "1   % of 25+ with High School Degree or Higher           0.002609\n",
      "2      % of 25+ with Bachelor Degree or Higher           0.003589\n",
      "3                                   Median Age           0.006555\n",
      "4                                         %65+           0.006735\n",
      "5                                       %White           0.105269\n",
      "6                                       %Black           0.108597\n",
      "7                             %Hispanic/Latino           0.116932\n",
      "8                                      (0, 30]           0.117414\n",
      "9                                     (30, 40]           0.123185\n",
      "10                                    (40, 50]           0.123626\n",
      "11                                    (50, 60]           0.139606\n",
      "12                                   (60, 100]           0.144047\n"
     ]
    },
    {
     "data": {
      "image/png": "[encoded data removed]",
      "text/plain": [
       "<Figure size 720x360 with 1 Axes>"
      ]
     },
     "metadata": {
      "needs_background": "light"
     },
     "output_type": "display_data"
    }
   ],
   "source": [
    "features = X\n",
    "importances = list(rf.feature_importances_)\n",
    "imp=np.sort(importances)\n",
    "tab=pd.DataFrame(list(zip(X,imp)),columns =['Features', 'Importance scores']) \n",
    "print(tab)\n",
    "\n",
    "#Visual comparison:\n",
    "plt.figure(figsize=(10,5))\n",
    "#indices = np.argsort(importances)\n",
    "index = [0,1,2,3,4,5,6,7,8,9,10,11,12]\n",
    "_=plt.barh(index,imp, align='center',color='b')\n",
    "plt.xlabel('Relative Importance',fontsize=15)\n",
    "plt.ylabel('Features',fontsize=15)\n",
    "plt.yticks(index, features)\n",
    "plt.title('Feature Importances for Random Forest classifier model',fontsize=15)\n",
    "plt.show()"
   ]
  },
  {
   "cell_type": "code",
   "execution_count": 44,
   "metadata": {},
   "outputs": [
    {
     "name": "stdout",
     "output_type": "stream",
     "text": [
      "ROC-AUC Score: 0.6767101334738321\n"
     ]
    }
   ],
   "source": [
    "from sklearn.metrics import auc, roc_curve, roc_auc_score\n",
    "y_scores_rf = rf.predict_proba(X_test)\n",
    "y_scores_rf = y_scores_rf[:,1]\n",
    "auroc = roc_auc_score(y_test, y_scores_rf)\n",
    "print(\"ROC-AUC Score:\", auroc)"
   ]
  },
  {
   "cell_type": "markdown",
   "metadata": {},
   "source": [
    "# Predicting Timeliness of Care National Comparison"
   ]
  },
  {
   "cell_type": "code",
   "execution_count": 45,
   "metadata": {},
   "outputs": [
    {
     "name": "stderr",
     "output_type": "stream",
     "text": [
      "/Applications/anaconda3/lib/python3.7/site-packages/pandas/core/generic.py:6245: SettingWithCopyWarning: \n",
      "A value is trying to be set on a copy of a slice from a DataFrame\n",
      "\n",
      "See the caveats in the documentation: https://pandas.pydata.org/pandas-docs/stable/user_guide/indexing.html#returning-a-view-versus-a-copy\n",
      "  self._update_inplace(new_data)\n"
     ]
    }
   ],
   "source": [
    "df_new = df[df['Binned Timeliness of Care'].notna()]\n",
    "\n",
    "feature_cols = ['Median Household Income', '% of 25+ with High School Degree or Higher', '% of 25+ with Bachelor Degree or Higher', 'Median Age', '%65+', '%White', '%Black', '%Hispanic/Latino', '(0, 30]', '(30, 40]', '(40, 50]', '(50, 60]', '(60, 100]']\n",
    "features = df_new[feature_cols]\n",
    "\n",
    "features.fillna(features.mean(), inplace=True)\n",
    "\n",
    "y = df_new['Binned Timeliness of Care']\n",
    "X = features"
   ]
  },
  {
   "cell_type": "code",
   "execution_count": 46,
   "metadata": {},
   "outputs": [
    {
     "name": "stderr",
     "output_type": "stream",
     "text": [
      "/Applications/anaconda3/lib/python3.7/site-packages/ipykernel_launcher.py:4: SettingWithCopyWarning: \n",
      "A value is trying to be set on a copy of a slice from a DataFrame.\n",
      "Try using .loc[row_indexer,col_indexer] = value instead\n",
      "\n",
      "See the caveats in the documentation: https://pandas.pydata.org/pandas-docs/stable/user_guide/indexing.html#returning-a-view-versus-a-copy\n",
      "  after removing the cwd from sys.path.\n",
      "/Applications/anaconda3/lib/python3.7/site-packages/pandas/core/indexing.py:966: SettingWithCopyWarning: \n",
      "A value is trying to be set on a copy of a slice from a DataFrame.\n",
      "Try using .loc[row_indexer,col_indexer] = value instead\n",
      "\n",
      "See the caveats in the documentation: https://pandas.pydata.org/pandas-docs/stable/user_guide/indexing.html#returning-a-view-versus-a-copy\n",
      "  self.obj[item] = s\n",
      "/Applications/anaconda3/lib/python3.7/site-packages/ipykernel_launcher.py:5: SettingWithCopyWarning: \n",
      "A value is trying to be set on a copy of a slice from a DataFrame.\n",
      "Try using .loc[row_indexer,col_indexer] = value instead\n",
      "\n",
      "See the caveats in the documentation: https://pandas.pydata.org/pandas-docs/stable/user_guide/indexing.html#returning-a-view-versus-a-copy\n",
      "  \"\"\"\n",
      "/Applications/anaconda3/lib/python3.7/site-packages/pandas/core/indexing.py:966: SettingWithCopyWarning: \n",
      "A value is trying to be set on a copy of a slice from a DataFrame.\n",
      "Try using .loc[row_indexer,col_indexer] = value instead\n",
      "\n",
      "See the caveats in the documentation: https://pandas.pydata.org/pandas-docs/stable/user_guide/indexing.html#returning-a-view-versus-a-copy\n",
      "  self.obj[item] = s\n"
     ]
    }
   ],
   "source": [
    "X_train, X_test, y_train, y_test = train_test_split(X, y, test_size=0.2, random_state=42)\n",
    "\n",
    "scaler_x = MinMaxScaler((-1,1))\n",
    "X_train[['Median Household Income', '% of 25+ with High School Degree or Higher', '% of 25+ with Bachelor Degree or Higher', 'Median Age', '%65+', '%White', '%Black', '%Hispanic/Latino']] = scaler_x.fit_transform(X_train[['Median Household Income', '% of 25+ with High School Degree or Higher', '% of 25+ with Bachelor Degree or Higher', 'Median Age', '%65+', '%White', '%Black', '%Hispanic/Latino']])\n",
    "X_test[['Median Household Income', '% of 25+ with High School Degree or Higher', '% of 25+ with Bachelor Degree or Higher', 'Median Age', '%65+', '%White', '%Black', '%Hispanic/Latino']] = scaler_x.transform(X_test[['Median Household Income', '% of 25+ with High School Degree or Higher', '% of 25+ with Bachelor Degree or Higher', 'Median Age', '%65+', '%White', '%Black', '%Hispanic/Latino']])"
   ]
  },
  {
   "cell_type": "markdown",
   "metadata": {},
   "source": [
    "Logistic Regression:"
   ]
  },
  {
   "cell_type": "code",
   "execution_count": 47,
   "metadata": {},
   "outputs": [],
   "source": [
    "Logreg = LogisticRegression(random_state=42)\n",
    "Logreg.fit(X_train,y_train)\n",
    "    \n",
    "y_pred_lr = Logreg.predict(X_test)"
   ]
  },
  {
   "cell_type": "code",
   "execution_count": 48,
   "metadata": {},
   "outputs": [
    {
     "name": "stdout",
     "output_type": "stream",
     "text": [
      "[[406  88]\n",
      " [146 103]]\n",
      "0.6850605652759085\n"
     ]
    }
   ],
   "source": [
    "cnf_matrix= confusion_matrix(y_test,y_pred_lr)\n",
    "print(cnf_matrix)\n",
    "Accuracy_lr=Logreg.score(X_test,y_test)\n",
    "\n",
    "print(Accuracy_lr)"
   ]
  },
  {
   "cell_type": "code",
   "execution_count": 49,
   "metadata": {},
   "outputs": [
    {
     "name": "stdout",
     "output_type": "stream",
     "text": [
      "[0.64464646 0.75676768 0.69434343 0.69020408 0.72314987]\n",
      "Mean cross validation test score: 0.7018223046794475\n",
      "Mean cross validation train score: 0.7275751391006653\n",
      "Standard deviation in cv test scores: 0.03723936647645885\n"
     ]
    }
   ],
   "source": [
    "cv_scores_test= cross_val_score(Logreg,X_test,y_test,cv=5,scoring='roc_auc')\n",
    "cv_scores_train= cross_val_score(Logreg,X_train,y_train,cv=5,scoring='roc_auc')\n",
    "print(cv_scores_test)\n",
    "cv_scores_lr_test= cv_scores_test.mean()\n",
    "cv_scores_lr_train= cv_scores_train.mean()\n",
    "cv_scores_std_test_lr= cv_scores_test.std()\n",
    "print ('Mean cross validation test score: ' +str(cv_scores_lr_test))\n",
    "print ('Mean cross validation train score: ' +str(cv_scores_lr_train))\n",
    "print ('Standard deviation in cv test scores: ' +str(cv_scores_std_test_lr))"
   ]
  },
  {
   "cell_type": "markdown",
   "metadata": {},
   "source": [
    "Random Forest:"
   ]
  },
  {
   "cell_type": "code",
   "execution_count": 50,
   "metadata": {},
   "outputs": [],
   "source": [
    "rf = RandomForestClassifier(random_state=42)\n",
    "rf.fit(X_train, y_train)\n",
    "\n",
    "y_predict_rf = rf.predict(X_test)"
   ]
  },
  {
   "cell_type": "code",
   "execution_count": 51,
   "metadata": {},
   "outputs": [
    {
     "name": "stdout",
     "output_type": "stream",
     "text": [
      "[[412  82]\n",
      " [142 107]]\n",
      "0.6985195154777928\n"
     ]
    }
   ],
   "source": [
    "cnf_matrix = confusion_matrix(y_test, y_predict_rf)\n",
    "print(cnf_matrix)\n",
    "Accuracy_rf=rf.score(X_test,y_test)\n",
    "print(Accuracy_rf)"
   ]
  },
  {
   "cell_type": "code",
   "execution_count": 52,
   "metadata": {},
   "outputs": [
    {
     "name": "stdout",
     "output_type": "stream",
     "text": [
      "[0.66525253 0.72282828 0.70767677 0.6777551  0.77685013]\n",
      "Mean cross validation test score: 0.7100725623582765\n",
      "Mean cross validation train score: 0.741582936667717\n",
      "Standard deviation in cv scores: 0.03919425028706595\n"
     ]
    }
   ],
   "source": [
    "cv_scores_test= cross_val_score(rf,X_test,y_test,cv=5,scoring='roc_auc')\n",
    "cv_scores_train= cross_val_score(rf,X_train,y_train,cv=5,scoring='roc_auc')\n",
    "print(cv_scores_test)\n",
    "cv_scores_rf_test= cv_scores_test.mean()\n",
    "cv_scores_rf_train= cv_scores_train.mean()\n",
    "cv_scores_std_rf= cv_scores_test.std()\n",
    "print ('Mean cross validation test score: ' +str(cv_scores_rf_test))\n",
    "print ('Mean cross validation train score: ' +str(cv_scores_rf_train))\n",
    "print ('Standard deviation in cv scores: ' +str(cv_scores_std_rf))"
   ]
  },
  {
   "cell_type": "markdown",
   "metadata": {},
   "source": [
    "Gradient Boosting:"
   ]
  },
  {
   "cell_type": "code",
   "execution_count": 53,
   "metadata": {},
   "outputs": [],
   "source": [
    "gbc = GradientBoostingClassifier(random_state=42)\n",
    "gbc.fit(X_train, y_train)\n",
    "\n",
    "y_predict_gbc = gbc.predict(X_test)"
   ]
  },
  {
   "cell_type": "code",
   "execution_count": 54,
   "metadata": {},
   "outputs": [
    {
     "name": "stdout",
     "output_type": "stream",
     "text": [
      "[[415  79]\n",
      " [141 108]]\n",
      "0.7039030955585465\n"
     ]
    }
   ],
   "source": [
    "cnf_matrix = confusion_matrix(y_test, y_predict_gbc)\n",
    "print(cnf_matrix)\n",
    "Accuracy_gbc=gbc.score(X_test,y_test)\n",
    "print(Accuracy_gbc)"
   ]
  },
  {
   "cell_type": "code",
   "execution_count": 55,
   "metadata": {},
   "outputs": [
    {
     "name": "stdout",
     "output_type": "stream",
     "text": [
      "[0.63959596 0.67636364 0.73737374 0.7077551  0.70789528]\n",
      "Mean cross validation test score: 0.6937967429396\n",
      "Mean cross validation train score: 0.7440627988222703\n",
      "Standard deviation in cv scores: 0.03326919620562703\n"
     ]
    }
   ],
   "source": [
    "cv_scores_test= cross_val_score(gbc,X_test,y_test,cv=5,scoring='roc_auc')\n",
    "cv_scores_train= cross_val_score(gbc,X_train,y_train,cv=5,scoring='roc_auc')\n",
    "print(cv_scores_test)\n",
    "cv_scores_gbc_test= cv_scores_test.mean()\n",
    "cv_scores_gbc_train= cv_scores_train.mean()\n",
    "cv_scores_std_gbc= cv_scores_test.std()\n",
    "print ('Mean cross validation test score: ' +str(cv_scores_gbc_test))\n",
    "print ('Mean cross validation train score: ' +str(cv_scores_gbc_train))\n",
    "print ('Standard deviation in cv scores: ' +str(cv_scores_std_gbc))"
   ]
  },
  {
   "cell_type": "markdown",
   "metadata": {},
   "source": [
    "Hyperparameter Tuning:"
   ]
  },
  {
   "cell_type": "markdown",
   "metadata": {},
   "source": [
    "Logistic Regression Grid Search:"
   ]
  },
  {
   "cell_type": "code",
   "execution_count": 56,
   "metadata": {},
   "outputs": [
    {
     "name": "stdout",
     "output_type": "stream",
     "text": [
      "LogisticRegression(C=0.18420699693267145, random_state=42)\n",
      "0.6896706724153748\n"
     ]
    }
   ],
   "source": [
    "Logreg = LogisticRegression(random_state=42)\n",
    "\n",
    "param_grid = { \"penalty\" : ['l1', 'l2'], \"C\" : np.logspace(-4, 4, 50)}\n",
    "\n",
    "gs = GridSearchCV(estimator=Logreg, param_grid=param_grid, scoring='accuracy', cv=3, n_jobs=-1)\n",
    "\n",
    "gs = gs.fit(X_train, y_train)\n",
    "\n",
    "print(gs.best_estimator_) \n",
    "print(gs.best_score_)"
   ]
  },
  {
   "cell_type": "code",
   "execution_count": 57,
   "metadata": {},
   "outputs": [
    {
     "name": "stdout",
     "output_type": "stream",
     "text": [
      "0.6985195154777928\n",
      "0.7025635951350238\n"
     ]
    }
   ],
   "source": [
    "Logreg = LogisticRegression(C=0.18420699693267145, random_state=42)\n",
    "\n",
    "Logreg.fit(X_train, y_train)\n",
    "y_predictions_lr = rf.predict(X_test)\n",
    "acc = accuracy_score(y_test, y_predictions_lr)\n",
    "cv = cross_val_score(Logreg, X_test, y_test,scoring='roc_auc').mean()\n",
    "print(acc)\n",
    "print(cv)"
   ]
  },
  {
   "cell_type": "markdown",
   "metadata": {},
   "source": [
    "Gradient Boosting Grid Search:"
   ]
  },
  {
   "cell_type": "code",
   "execution_count": 58,
   "metadata": {},
   "outputs": [
    {
     "name": "stdout",
     "output_type": "stream",
     "text": [
      "Fitting 3 folds for each of 72 candidates, totalling 216 fits\n"
     ]
    },
    {
     "name": "stderr",
     "output_type": "stream",
     "text": [
      "[Parallel(n_jobs=-1)]: Using backend LokyBackend with 4 concurrent workers.\n",
      "[Parallel(n_jobs=-1)]: Done  42 tasks      | elapsed:    7.6s\n",
      "[Parallel(n_jobs=-1)]: Done 192 tasks      | elapsed:   35.1s\n",
      "[Parallel(n_jobs=-1)]: Done 216 out of 216 | elapsed:   38.5s finished\n"
     ]
    },
    {
     "name": "stdout",
     "output_type": "stream",
     "text": [
      "GradientBoostingClassifier(learning_rate=0.05, max_depth=4, max_features=0.3,\n",
      "                           min_samples_leaf=100, n_estimators=300,\n",
      "                           random_state=42)\n",
      "0.7078480737411109\n"
     ]
    }
   ],
   "source": [
    "GB = GradientBoostingClassifier(random_state=42)\n",
    "gb_param = {\n",
    "        'loss' : [\"deviance\"],\n",
    "        'n_estimators' : [100,200,300],\n",
    "        'learning_rate': [0.1, 0.05, 0.01],\n",
    "        'max_depth': [4, 8],\n",
    "        'min_samples_leaf': [100,150],\n",
    "        'max_features': [0.3, 0.1] \n",
    "        }\n",
    "\n",
    "gsGB = GridSearchCV(GB, param_grid = gb_param, cv=3, scoring=\"accuracy\", n_jobs= -1, verbose = 1)\n",
    "gsGB.fit(X_train,y_train)\n",
    "print(gsGB.best_estimator_)\n",
    "print(gsGB.best_score_)"
   ]
  },
  {
   "cell_type": "code",
   "execution_count": 59,
   "metadata": {},
   "outputs": [
    {
     "name": "stdout",
     "output_type": "stream",
     "text": [
      "0.7052489905787349\n",
      "0.7127631416202844\n"
     ]
    }
   ],
   "source": [
    "GB = GradientBoostingClassifier(learning_rate=0.05, max_depth=4, max_features=0.3,\n",
    "                           min_samples_leaf=100, n_estimators=300,\n",
    "                           random_state=42)\n",
    "\n",
    "GB.fit(X_train, y_train)\n",
    "y_predictions_GB = GB.predict(X_test)\n",
    "acc_GB = accuracy_score(y_test, y_predictions_GB)\n",
    "cv_GB = cross_val_score(GB, X_test, y_test,scoring='roc_auc').mean()\n",
    "print(acc_GB)\n",
    "print(cv_GB)"
   ]
  },
  {
   "cell_type": "code",
   "execution_count": 66,
   "metadata": {},
   "outputs": [
    {
     "name": "stdout",
     "output_type": "stream",
     "text": [
      "                                      Features  Importance scores\n",
      "0                      Median Household Income           0.000000\n",
      "1   % of 25+ with High School Degree or Higher           0.000477\n",
      "2      % of 25+ with Bachelor Degree or Higher           0.000478\n",
      "3                                   Median Age           0.003537\n",
      "4                                         %65+           0.005587\n",
      "5                                       %White           0.056518\n",
      "6                                       %Black           0.084082\n",
      "7                             %Hispanic/Latino           0.087396\n",
      "8                                      (0, 30]           0.089108\n",
      "9                                     (30, 40]           0.113085\n",
      "10                                    (40, 50]           0.122436\n",
      "11                                    (50, 60]           0.159835\n",
      "12                                   (60, 100]           0.277461\n"
     ]
    },
    {
     "data": {
      "image/png": "[encoded data removed]",
      "text/plain": [
       "<Figure size 720x360 with 1 Axes>"
      ]
     },
     "metadata": {
      "needs_background": "light"
     },
     "output_type": "display_data"
    }
   ],
   "source": [
    "features = X\n",
    "importances = list(GB.feature_importances_)\n",
    "imp=np.sort(importances)\n",
    "tab=pd.DataFrame(list(zip(X,imp)),columns =['Features', 'Importance scores']) \n",
    "print(tab)\n",
    "\n",
    "#visually:\n",
    "plt.figure(figsize=(10,5))\n",
    "#indices = np.argsort(importances)\n",
    "index = [0,1,2,3,4,5,6,7,8,9,10,11,12]\n",
    "_=plt.barh(index,imp, align='center',color='gold',edgecolor='k')\n",
    "plt.xlabel('Relative Importance',fontsize=15)\n",
    "plt.ylabel('Features',fontsize=15)\n",
    "plt.yticks(index, features)\n",
    "plt.title('Feature Importances for Gradient Boost Classifier: Timeliness of Care',fontsize=15)\n",
    "plt.show()"
   ]
  },
  {
   "cell_type": "code",
   "execution_count": 61,
   "metadata": {},
   "outputs": [
    {
     "name": "stdout",
     "output_type": "stream",
     "text": [
      "ROC-AUC Score: 0.7332528494544981\n"
     ]
    }
   ],
   "source": [
    "from sklearn.metrics import auc, roc_curve, roc_auc_score\n",
    "y_scores_gb = GB.predict_proba(X_test)\n",
    "y_scores_gb = y_scores_gb[:,1]\n",
    "auroc = roc_auc_score(y_test, y_scores_gb)\n",
    "print(\"ROC-AUC Score:\", auroc)"
   ]
  },
  {
   "cell_type": "markdown",
   "metadata": {},
   "source": [
    "Random Forest Grid Search:"
   ]
  },
  {
   "cell_type": "code",
   "execution_count": 62,
   "metadata": {},
   "outputs": [
    {
     "name": "stdout",
     "output_type": "stream",
     "text": [
      "RandomForestClassifier(min_samples_split=4, n_jobs=-1, random_state=1)\n",
      "0.7081796777054093\n"
     ]
    }
   ],
   "source": [
    "rf = RandomForestClassifier(max_features='auto',random_state=1, n_jobs=-1)\n",
    "\n",
    "param_grid = { \"criterion\" : [\"gini\", \"entropy\"], \"min_samples_leaf\" : [1, 5, 10], \"min_samples_split\" : [2, 4, 10,12,16], \"n_estimators\": [50, 100,400,700,1000]}\n",
    "\n",
    "gs = GridSearchCV(estimator=rf, param_grid=param_grid, scoring='accuracy', cv=3, n_jobs=-1)\n",
    "\n",
    "gs = gs.fit(X_train, y_train)\n",
    "\n",
    "print(gs.best_estimator_) \n",
    "print(gs.best_score_)"
   ]
  },
  {
   "cell_type": "code",
   "execution_count": 63,
   "metadata": {},
   "outputs": [
    {
     "name": "stdout",
     "output_type": "stream",
     "text": [
      "0.6890982503364738\n",
      "0.7124081632653061\n"
     ]
    }
   ],
   "source": [
    "rf = RandomForestClassifier(min_samples_split=4, n_jobs=-1, random_state=1)\n",
    "\n",
    "rf.fit(X_train, y_train)\n",
    "y_predictions_rf = rf.predict(X_test)\n",
    "acc = accuracy_score(y_test, y_predictions_rf)\n",
    "cv = cross_val_score(rf, X_test, y_test,scoring='roc_auc').mean()\n",
    "print(acc)\n",
    "print(cv)"
   ]
  },
  {
   "cell_type": "code",
   "execution_count": 64,
   "metadata": {},
   "outputs": [
    {
     "name": "stdout",
     "output_type": "stream",
     "text": [
      "                                      Features  Importance scores\n",
      "0                      Median Household Income           0.000770\n",
      "1   % of 25+ with High School Degree or Higher           0.002559\n",
      "2      % of 25+ with Bachelor Degree or Higher           0.002739\n",
      "3                                   Median Age           0.006817\n",
      "4                                         %65+           0.006938\n",
      "5                                       %White           0.098145\n",
      "6                                       %Black           0.109945\n",
      "7                             %Hispanic/Latino           0.116246\n",
      "8                                      (0, 30]           0.116995\n",
      "9                                     (30, 40]           0.121133\n",
      "10                                    (40, 50]           0.124306\n",
      "11                                    (50, 60]           0.133202\n",
      "12                                   (60, 100]           0.160206\n"
     ]
    },
    {
     "data": {
      "image/png": "[encoded data removed]",
      "text/plain": [
       "<Figure size 720x360 with 1 Axes>"
      ]
     },
     "metadata": {
      "needs_background": "light"
     },
     "output_type": "display_data"
    }
   ],
   "source": [
    "features = X\n",
    "importances = list(rf.feature_importances_)\n",
    "imp=np.sort(importances)\n",
    "tab=pd.DataFrame(list(zip(X,imp)),columns =['Features', 'Importance scores']) \n",
    "print(tab)\n",
    "\n",
    "#Visual comparison:\n",
    "plt.figure(figsize=(10,5))\n",
    "#indices = np.argsort(importances)\n",
    "index = [0,1,2,3,4,5,6,7,8,9,10,11,12]\n",
    "_=plt.barh(index,imp, align='center',color='b')\n",
    "plt.xlabel('Relative Importance',fontsize=15)\n",
    "plt.ylabel('Features',fontsize=15)\n",
    "plt.yticks(index, features)\n",
    "plt.title('Feature Importances for Random Forest classifier model',fontsize=15)\n",
    "plt.show()"
   ]
  },
  {
   "cell_type": "code",
   "execution_count": 65,
   "metadata": {},
   "outputs": [
    {
     "name": "stdout",
     "output_type": "stream",
     "text": [
      "ROC-AUC Score: 0.724838625758093\n"
     ]
    }
   ],
   "source": [
    "from sklearn.metrics import auc, roc_curve, roc_auc_score\n",
    "y_scores_rf = rf.predict_proba(X_test)\n",
    "y_scores_rf = y_scores_rf[:,1]\n",
    "auroc = roc_auc_score(y_test, y_scores_rf)\n",
    "print(\"ROC-AUC Score:\", auroc)"
   ]
  },
  {
   "cell_type": "markdown",
   "metadata": {},
   "source": [
    "Conclusion:"
   ]
  },
  {
   "cell_type": "markdown",
   "metadata": {},
   "source": [
    "We have attempted to predict three different dependent variables (Overall Hospital Rating, Patient Experience National Comparison, and Timeliness of Care National Comparison) using 13 features obtained from census data of the zip code in which a hospital is located. We binned each of these three dependent variables into two classes: Above Average and Average/Below Average.\n",
    "\n",
    "We then used three different classification models for each dependent variable: Logistic Regression, Gradient Boosting, and Random Forest. Hyperparamter tuning was done using grid search CV. We evaluated each of the models using ROC-AUC scores, and also looked at the feature importances of the Gradient Boosting and Random Forest models. The model with the highest ROC-AUC score for each dependent variable:\n",
    "\n",
    "Overall Hospital Rating: RF, 0.691\n",
    "\n",
    "Patient Experience National Comparison: GB, .682 \n",
    "\n",
    "Timeliness of Care National Comparison: GB, 0.733"
   ]
  }
 ],
 "metadata": {
  "kernelspec": {
   "display_name": "Python 3",
   "language": "python",
   "name": "python3"
  },
  "language_info": {
   "codemirror_mode": {
    "name": "ipython",
    "version": 3
   },
   "file_extension": ".py",
   "mimetype": "text/x-python",
   "name": "python",
   "nbconvert_exporter": "python",
   "pygments_lexer": "ipython3",
   "version": "3.7.6"
  }
 },
 "nbformat": 4,
 "nbformat_minor": 4
}
