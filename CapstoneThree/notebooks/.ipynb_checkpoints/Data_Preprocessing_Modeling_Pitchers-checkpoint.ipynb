{
 "cells": [
  {
   "cell_type": "code",
   "execution_count": 19,
   "metadata": {},
   "outputs": [],
   "source": [
    "import numpy as np\n",
    "import pandas as pd\n",
    "import matplotlib.pyplot as plt\n",
    "import warnings\n",
    "warnings.filterwarnings('ignore')\n",
    "\n",
    "from sklearn.preprocessing import StandardScaler\n",
    "from sklearn.model_selection import train_test_split\n",
    "from sklearn.model_selection import cross_val_score\n",
    "from sklearn.preprocessing import MinMaxScaler\n",
    "from sklearn.model_selection import GridSearchCV\n",
    "from sklearn.metrics import accuracy_score\n",
    "from sklearn.metrics import confusion_matrix\n",
    "from sklearn.metrics import classification_report\n",
    "\n",
    "df_pitchers = pd.read_csv('~/Desktop/Springboard/CapstoneThree/data/final/pitchers.csv')"
   ]
  },
  {
   "cell_type": "code",
   "execution_count": 2,
   "metadata": {},
   "outputs": [
    {
     "name": "stdout",
     "output_type": "stream",
     "text": [
      "<class 'pandas.core.frame.DataFrame'>\n",
      "RangeIndex: 1186 entries, 0 to 1185\n",
      "Data columns (total 26 columns):\n",
      " #   Column          Non-Null Count  Dtype  \n",
      "---  ------          --------------  -----  \n",
      " 0   player_id       1186 non-null   object \n",
      " 1   w               1186 non-null   float64\n",
      " 2   l               1186 non-null   float64\n",
      " 3   g_x             1186 non-null   float64\n",
      " 4   gs_x            1186 non-null   float64\n",
      " 5   cg              1186 non-null   float64\n",
      " 6   sho             1186 non-null   float64\n",
      " 7   sv              1186 non-null   float64\n",
      " 8   ipouts          1186 non-null   float64\n",
      " 9   h_x             1186 non-null   float64\n",
      " 10  er              1186 non-null   float64\n",
      " 11  hr_x            1186 non-null   float64\n",
      " 12  bb_x            1186 non-null   float64\n",
      " 13  so_x            1186 non-null   float64\n",
      " 14  baopp           1186 non-null   float64\n",
      " 15  era             1186 non-null   float64\n",
      " 16  ibb_x           1186 non-null   float64\n",
      " 17  wp              1186 non-null   float64\n",
      " 18  hbp_x           1186 non-null   float64\n",
      " 19  bk              1186 non-null   float64\n",
      " 20  bfp             1186 non-null   float64\n",
      " 21  gf              1186 non-null   float64\n",
      " 22  r_x             1186 non-null   float64\n",
      " 23  weight          1186 non-null   float64\n",
      " 24  height          1186 non-null   float64\n",
      " 25  HoF_nomination  1186 non-null   float64\n",
      "dtypes: float64(25), object(1)\n",
      "memory usage: 241.0+ KB\n"
     ]
    }
   ],
   "source": [
    "df_pitchers.info()"
   ]
  },
  {
   "cell_type": "code",
   "execution_count": 6,
   "metadata": {},
   "outputs": [],
   "source": [
    "y = df_pitchers['HoF_nomination']\n",
    "X = df_pitchers.drop(['player_id','HoF_nomination'], axis=1)\n",
    "\n",
    "X_train, X_test, y_train, y_test = train_test_split(X, y, test_size=0.2, random_state=42)\n",
    "\n",
    "scaler_x = MinMaxScaler((-1,1))\n",
    "X_train[['w', 'l', 'g_x', 'gs_x', 'cg', 'sho', 'sv', 'ipouts', 'h_x', 'er', 'hr_x', 'bb_x', 'so_x', 'baopp', 'era', 'ibb_x', 'wp', 'hbp_x', 'bk', 'bfp', 'gf', 'r_x', 'weight', 'height']] = scaler_x.fit_transform(X_train[['w', 'l', 'g_x', 'gs_x', 'cg', 'sho', 'sv', 'ipouts', 'h_x', 'er', 'hr_x', 'bb_x', 'so_x', 'baopp', 'era', 'ibb_x', 'wp', 'hbp_x', 'bk', 'bfp', 'gf', 'r_x', 'weight', 'height']])\n",
    "X_test[['w', 'l', 'g_x', 'gs_x', 'cg', 'sho', 'sv', 'ipouts', 'h_x', 'er', 'hr_x', 'bb_x', 'so_x', 'baopp', 'era', 'ibb_x', 'wp', 'hbp_x', 'bk', 'bfp', 'gf', 'r_x', 'weight', 'height']] = scaler_x.transform(X_test[['w', 'l', 'g_x', 'gs_x', 'cg', 'sho', 'sv', 'ipouts', 'h_x', 'er', 'hr_x', 'bb_x', 'so_x', 'baopp', 'era', 'ibb_x', 'wp', 'hbp_x', 'bk', 'bfp', 'gf', 'r_x', 'weight', 'height']])"
   ]
  },
  {
   "cell_type": "markdown",
   "metadata": {},
   "source": [
    "We want to predict whether or not each pitcher will receive a Hall of Fame nomination. Therefore, this is a classification problem and we will try four different kinds of classification models: Logistic Regression, Support Vector Machine (SVM), Random Forest, and Gradient Boosted Trees"
   ]
  },
  {
   "cell_type": "markdown",
   "metadata": {},
   "source": [
    "**Logistic Regression**"
   ]
  },
  {
   "cell_type": "code",
   "execution_count": 7,
   "metadata": {},
   "outputs": [
    {
     "data": {
      "text/html": [
       "<div>\n",
       "<style scoped>\n",
       "    .dataframe tbody tr th:only-of-type {\n",
       "        vertical-align: middle;\n",
       "    }\n",
       "\n",
       "    .dataframe tbody tr th {\n",
       "        vertical-align: top;\n",
       "    }\n",
       "\n",
       "    .dataframe thead th {\n",
       "        text-align: right;\n",
       "    }\n",
       "</style>\n",
       "<table border=\"1\" class=\"dataframe\">\n",
       "  <thead>\n",
       "    <tr style=\"text-align: right;\">\n",
       "      <th></th>\n",
       "      <th>C_parameter</th>\n",
       "      <th>Accuracy</th>\n",
       "    </tr>\n",
       "  </thead>\n",
       "  <tbody>\n",
       "    <tr>\n",
       "      <th>0</th>\n",
       "      <td>0.001</td>\n",
       "      <td>0.756303</td>\n",
       "    </tr>\n",
       "    <tr>\n",
       "      <th>1</th>\n",
       "      <td>0.010</td>\n",
       "      <td>0.789916</td>\n",
       "    </tr>\n",
       "    <tr>\n",
       "      <th>2</th>\n",
       "      <td>0.100</td>\n",
       "      <td>0.827731</td>\n",
       "    </tr>\n",
       "    <tr>\n",
       "      <th>3</th>\n",
       "      <td>1.000</td>\n",
       "      <td>0.810924</td>\n",
       "    </tr>\n",
       "    <tr>\n",
       "      <th>4</th>\n",
       "      <td>10.000</td>\n",
       "      <td>0.806723</td>\n",
       "    </tr>\n",
       "    <tr>\n",
       "      <th>5</th>\n",
       "      <td>100.000</td>\n",
       "      <td>0.806723</td>\n",
       "    </tr>\n",
       "  </tbody>\n",
       "</table>\n",
       "</div>"
      ],
      "text/plain": [
       "   C_parameter  Accuracy\n",
       "0        0.001  0.756303\n",
       "1        0.010  0.789916\n",
       "2        0.100  0.827731\n",
       "3        1.000  0.810924\n",
       "4       10.000  0.806723\n",
       "5      100.000  0.806723"
      ]
     },
     "execution_count": 7,
     "metadata": {},
     "output_type": "execute_result"
    }
   ],
   "source": [
    "from sklearn.linear_model import LogisticRegression\n",
    "\n",
    "C_param_range = [0.001,0.01,0.1,1,10,100]\n",
    "\n",
    "table = pd.DataFrame(columns = ['C_parameter','Accuracy'])\n",
    "table['C_parameter'] = C_param_range\n",
    "\n",
    "\n",
    "j = 0\n",
    "for i in C_param_range:\n",
    "    \n",
    "    Logreg = LogisticRegression(C = i,random_state = 42)\n",
    "    Logreg.fit(X_train,y_train)\n",
    "    y_pred_lr = Logreg.predict(X_test)\n",
    "    \n",
    "    table.iloc[j,1] = accuracy_score(y_test,y_pred_lr)\n",
    "    j += 1\n",
    "    \n",
    "table"
   ]
  },
  {
   "cell_type": "markdown",
   "metadata": {},
   "source": [
    "Choose C (inverse of regularization strength) that optimizes accuracy, and create confusion matrix/accuracy score"
   ]
  },
  {
   "cell_type": "code",
   "execution_count": 8,
   "metadata": {},
   "outputs": [
    {
     "name": "stdout",
     "output_type": "stream",
     "text": [
      "[[171   9]\n",
      " [ 32  26]]\n",
      "0.8277310924369747\n"
     ]
    }
   ],
   "source": [
    "Logreg = LogisticRegression(C = 0.1,random_state = 42)\n",
    "Logreg.fit(X_train,y_train)\n",
    "y_pred_lr = Logreg.predict(X_test)\n",
    "\n",
    "cnf_matrix= confusion_matrix(y_test,y_pred_lr)\n",
    "print(cnf_matrix)\n",
    "Accuracy_lr=Logreg.score(X_test,y_test)\n",
    "\n",
    "print(Accuracy_lr)"
   ]
  },
  {
   "cell_type": "markdown",
   "metadata": {},
   "source": [
    "Use cross validation to determine ROC_AUC score for training and testing data"
   ]
  },
  {
   "cell_type": "code",
   "execution_count": 9,
   "metadata": {},
   "outputs": [
    {
     "name": "stdout",
     "output_type": "stream",
     "text": [
      "Mean cross validation test score: 0.7012205387205388\n",
      "Mean cross validation train score: 0.8062405937692396\n"
     ]
    }
   ],
   "source": [
    "cv_scores_test= cross_val_score(Logreg,X_test,y_test,cv=5,scoring='roc_auc')\n",
    "cv_scores_train= cross_val_score(Logreg,X_train,y_train,cv=5,scoring='roc_auc')\n",
    "\n",
    "cv_scores_lr_test= cv_scores_test.mean()\n",
    "cv_scores_lr_train= cv_scores_train.mean()\n",
    "\n",
    "print ('Mean cross validation test score: ' +str(cv_scores_lr_test))\n",
    "print ('Mean cross validation train score: ' +str(cv_scores_lr_train))"
   ]
  },
  {
   "cell_type": "markdown",
   "metadata": {},
   "source": [
    "**Support Vector Machine**"
   ]
  },
  {
   "cell_type": "code",
   "execution_count": 10,
   "metadata": {},
   "outputs": [
    {
     "name": "stdout",
     "output_type": "stream",
     "text": [
      "[[164  16]\n",
      " [ 28  30]]\n"
     ]
    }
   ],
   "source": [
    "from sklearn.svm import SVC\n",
    "\n",
    "svm = SVC(random_state=42)\n",
    "svm.fit(X_train, y_train)\n",
    "\n",
    "y_predict_svm=svm.predict(X_test)\n",
    "\n",
    "cnf_matrix = confusion_matrix(y_test, y_predict_svm)\n",
    "print(cnf_matrix)"
   ]
  },
  {
   "cell_type": "markdown",
   "metadata": {},
   "source": [
    "SVM Hyperparameter Tuning:"
   ]
  },
  {
   "cell_type": "code",
   "execution_count": 11,
   "metadata": {},
   "outputs": [
    {
     "name": "stdout",
     "output_type": "stream",
     "text": [
      "SVC(C=10, gamma=0.1, kernel='poly', random_state=42)\n",
      "0.870392346172355\n"
     ]
    }
   ],
   "source": [
    "svm = SVC(random_state=42)\n",
    "\n",
    "param_grid = { \"C\" : [0.1, 1, 10, 100, 1000], \"gamma\": [1, 0.1, 0.01, 0.001, 0.0001], \"kernel\": ['linear', 'poly', 'rbf', 'sigmoid']}\n",
    "\n",
    "gs = GridSearchCV(estimator=svm, param_grid=param_grid, scoring='roc_auc', n_jobs=-1)\n",
    "\n",
    "gs = gs.fit(X_train, y_train)\n",
    "\n",
    "print(gs.best_estimator_) \n",
    "print(gs.best_score_)"
   ]
  },
  {
   "cell_type": "markdown",
   "metadata": {},
   "source": [
    "Fit model with optimized hyperparameters"
   ]
  },
  {
   "cell_type": "code",
   "execution_count": 12,
   "metadata": {},
   "outputs": [
    {
     "data": {
      "text/plain": [
       "SVC(C=10, gamma=0.1, kernel='poly', random_state=42)"
      ]
     },
     "execution_count": 12,
     "metadata": {},
     "output_type": "execute_result"
    }
   ],
   "source": [
    "svm = SVC(C=10, gamma=0.1, kernel='poly', random_state=42)\n",
    "svm.fit(X_train, y_train)"
   ]
  },
  {
   "cell_type": "markdown",
   "metadata": {},
   "source": [
    "Use cross validation to determine ROC_AUC score for training and testing data"
   ]
  },
  {
   "cell_type": "code",
   "execution_count": 13,
   "metadata": {},
   "outputs": [
    {
     "name": "stdout",
     "output_type": "stream",
     "text": [
      "Mean cross validation test score: 0.782996632996633\n",
      "Mean cross validation train score: 0.870392346172355\n",
      "0.7983193277310925\n"
     ]
    }
   ],
   "source": [
    "cv_scores_test= cross_val_score(svm,X_test,y_test,cv=5,scoring='roc_auc')\n",
    "cv_scores_train= cross_val_score(svm,X_train,y_train,cv=5,scoring='roc_auc')\n",
    "\n",
    "cv_scores_svm_test= cv_scores_test.mean()\n",
    "cv_scores_svm_train= cv_scores_train.mean()\n",
    "\n",
    "print ('Mean cross validation test score: ' +str(cv_scores_svm_test))\n",
    "print ('Mean cross validation train score: ' +str(cv_scores_svm_train))\n",
    "\n",
    "Accuracy_svm=svm.score(X_test,y_test)\n",
    "print(Accuracy_svm)"
   ]
  },
  {
   "cell_type": "markdown",
   "metadata": {},
   "source": [
    "**Random Forest**"
   ]
  },
  {
   "cell_type": "code",
   "execution_count": 14,
   "metadata": {},
   "outputs": [
    {
     "name": "stdout",
     "output_type": "stream",
     "text": [
      "[[160  20]\n",
      " [ 26  32]]\n"
     ]
    }
   ],
   "source": [
    "from sklearn.ensemble import RandomForestClassifier\n",
    "\n",
    "rf = RandomForestClassifier(random_state=42)\n",
    "rf.fit(X_train, y_train)\n",
    "\n",
    "y_predict_rf = rf.predict(X_test)\n",
    "\n",
    "cnf_matrix = confusion_matrix(y_test, y_predict_rf)\n",
    "print(cnf_matrix)"
   ]
  },
  {
   "cell_type": "markdown",
   "metadata": {},
   "source": [
    "RF Hyperparameter Tuning:"
   ]
  },
  {
   "cell_type": "code",
   "execution_count": 15,
   "metadata": {},
   "outputs": [
    {
     "name": "stdout",
     "output_type": "stream",
     "text": [
      "RandomForestClassifier(criterion='entropy', min_samples_leaf=5,\n",
      "                       min_samples_split=12, n_estimators=700, random_state=42)\n",
      "0.8660757212299067\n"
     ]
    }
   ],
   "source": [
    "rf = RandomForestClassifier(random_state=42)\n",
    "\n",
    "param_grid = { \"criterion\" : [\"gini\", \"entropy\"], \"min_samples_leaf\" : [1, 5, 10], \"min_samples_split\" : [2, 4, 10,12,16], \"n_estimators\": [50, 100,400,700,1000]}\n",
    "\n",
    "gs = GridSearchCV(estimator=rf, param_grid=param_grid, scoring='roc_auc', cv=5, n_jobs=-1)\n",
    "\n",
    "gs = gs.fit(X_train, y_train)\n",
    "\n",
    "print(gs.best_estimator_) \n",
    "print(gs.best_score_)"
   ]
  },
  {
   "cell_type": "markdown",
   "metadata": {},
   "source": [
    "Fit model with optimized hyperparameters"
   ]
  },
  {
   "cell_type": "code",
   "execution_count": 16,
   "metadata": {},
   "outputs": [
    {
     "data": {
      "text/plain": [
       "RandomForestClassifier(criterion='entropy', min_samples_leaf=5,\n",
       "                       min_samples_split=12, n_estimators=700)"
      ]
     },
     "execution_count": 16,
     "metadata": {},
     "output_type": "execute_result"
    }
   ],
   "source": [
    "rf = RandomForestClassifier(criterion='entropy', min_samples_leaf=5, min_samples_split=12,\n",
    "                       n_estimators=700)\n",
    "rf.fit(X_train, y_train)"
   ]
  },
  {
   "cell_type": "markdown",
   "metadata": {},
   "source": [
    "Use cross validation to determine ROC_AUC score for training and testing data"
   ]
  },
  {
   "cell_type": "code",
   "execution_count": 17,
   "metadata": {},
   "outputs": [
    {
     "name": "stdout",
     "output_type": "stream",
     "text": [
      "Mean cross validation test score: 0.7851851851851853\n",
      "Mean cross validation train score: 0.8644658723455481\n",
      "0.8025210084033614\n"
     ]
    }
   ],
   "source": [
    "cv_scores_test= cross_val_score(rf,X_test,y_test,cv=5,scoring='roc_auc')\n",
    "cv_scores_train= cross_val_score(rf,X_train,y_train,cv=5,scoring='roc_auc')\n",
    "\n",
    "cv_scores_rf_test= cv_scores_test.mean()\n",
    "cv_scores_rf_train= cv_scores_train.mean()\n",
    "\n",
    "print ('Mean cross validation test score: ' +str(cv_scores_rf_test))\n",
    "print ('Mean cross validation train score: ' +str(cv_scores_rf_train))\n",
    "\n",
    "Accuracy_rf=rf.score(X_test,y_test)\n",
    "print(Accuracy_rf)"
   ]
  },
  {
   "cell_type": "code",
   "execution_count": 20,
   "metadata": {},
   "outputs": [
    {
     "name": "stdout",
     "output_type": "stream",
     "text": [
      "   Features  Importance scores\n",
      "0         w           0.009811\n",
      "1         l           0.015757\n",
      "2       g_x           0.019409\n",
      "3      gs_x           0.021118\n",
      "4        cg           0.022625\n",
      "5       sho           0.022697\n",
      "6        sv           0.024830\n",
      "7    ipouts           0.028806\n",
      "8       h_x           0.030228\n",
      "9        er           0.032571\n",
      "10     hr_x           0.032981\n",
      "11     bb_x           0.033740\n",
      "12     so_x           0.034704\n",
      "13    baopp           0.038263\n",
      "14      era           0.041049\n",
      "15    ibb_x           0.044866\n",
      "16       wp           0.047214\n",
      "17    hbp_x           0.056284\n",
      "18       bk           0.057012\n",
      "19      bfp           0.064614\n",
      "20       gf           0.065471\n",
      "21      r_x           0.074701\n",
      "22   weight           0.082419\n",
      "23   height           0.098830\n"
     ]
    },
    {
     "data": {
      "image/png": "[encoded data removed]",
      "text/plain": [
       "<Figure size 720x360 with 1 Axes>"
      ]
     },
     "metadata": {
      "needs_background": "light"
     },
     "output_type": "display_data"
    }
   ],
   "source": [
    "features = X\n",
    "importances = list(rf.feature_importances_)\n",
    "imp=np.sort(importances)\n",
    "tab=pd.DataFrame(list(zip(X,imp)),columns =['Features', 'Importance scores']) \n",
    "print(tab)\n",
    "\n",
    "plt.figure(figsize=(10,5))\n",
    "indices = np.argsort(importances)\n",
    "index = [0,1,2,3,4,5,6,7,8,9,10,11,12,13,14,15,16,17,18,19,20,21,22,23]\n",
    "_=plt.barh(index,imp, align='center',color='b')\n",
    "plt.xlabel('Relative Importance',fontsize=15)\n",
    "plt.ylabel('Features',fontsize=15)\n",
    "plt.yticks(index, features)\n",
    "plt.title('Feature Importances for Random Forest classifier model',fontsize=15)\n",
    "plt.show()"
   ]
  },
  {
   "cell_type": "markdown",
   "metadata": {},
   "source": [
    "**Gradient Boosting**"
   ]
  },
  {
   "cell_type": "code",
   "execution_count": 21,
   "metadata": {},
   "outputs": [
    {
     "name": "stdout",
     "output_type": "stream",
     "text": [
      "[[156  24]\n",
      " [ 24  34]]\n"
     ]
    }
   ],
   "source": [
    "from sklearn.ensemble import GradientBoostingClassifier\n",
    "gbc = GradientBoostingClassifier(random_state=42)\n",
    "gbc.fit(X_train, y_train)\n",
    "\n",
    "y_predict_gbc = gbc.predict(X_test)\n",
    "\n",
    "cnf_matrix = confusion_matrix(y_test, y_predict_gbc)\n",
    "print(cnf_matrix)"
   ]
  },
  {
   "cell_type": "markdown",
   "metadata": {},
   "source": [
    "GB Hyperparameter Tuning:"
   ]
  },
  {
   "cell_type": "code",
   "execution_count": 22,
   "metadata": {},
   "outputs": [
    {
     "name": "stdout",
     "output_type": "stream",
     "text": [
      "Fitting 5 folds for each of 72 candidates, totalling 360 fits\n"
     ]
    },
    {
     "name": "stderr",
     "output_type": "stream",
     "text": [
      "[Parallel(n_jobs=-1)]: Using backend LokyBackend with 4 concurrent workers.\n",
      "[Parallel(n_jobs=-1)]: Done  42 tasks      | elapsed:    5.0s\n",
      "[Parallel(n_jobs=-1)]: Done 192 tasks      | elapsed:   21.9s\n",
      "[Parallel(n_jobs=-1)]: Done 360 out of 360 | elapsed:   40.2s finished\n"
     ]
    },
    {
     "name": "stdout",
     "output_type": "stream",
     "text": [
      "GradientBoostingClassifier(learning_rate=0.05, max_depth=4, max_features=0.1,\n",
      "                           min_samples_leaf=100, n_estimators=200,\n",
      "                           random_state=42)\n",
      "0.8571083066914282\n"
     ]
    }
   ],
   "source": [
    "gbc = GradientBoostingClassifier(random_state=42)\n",
    "gb_param = {\n",
    "        'loss' : [\"deviance\"],\n",
    "        'n_estimators' : [100,200,300],\n",
    "        'learning_rate': [0.1, 0.05, 0.01],\n",
    "        'max_depth': [4, 8],\n",
    "        'min_samples_leaf': [100,150],\n",
    "        'max_features': [0.3, 0.1] \n",
    "        }\n",
    "\n",
    "gsgbc = GridSearchCV(gbc, param_grid = gb_param, cv=5, scoring=\"roc_auc\", n_jobs= -1, verbose = 1)\n",
    "gsgbc.fit(X_train,y_train)\n",
    "print(gsgbc.best_estimator_)\n",
    "print(gsgbc.best_score_)"
   ]
  },
  {
   "cell_type": "markdown",
   "metadata": {},
   "source": [
    "Fit model with optimized hyperparameters"
   ]
  },
  {
   "cell_type": "code",
   "execution_count": 23,
   "metadata": {},
   "outputs": [
    {
     "data": {
      "text/plain": [
       "GradientBoostingClassifier(learning_rate=0.05, max_depth=4, max_features=0.1,\n",
       "                           min_samples_leaf=100, n_estimators=200)"
      ]
     },
     "execution_count": 23,
     "metadata": {},
     "output_type": "execute_result"
    }
   ],
   "source": [
    "gbc = GradientBoostingClassifier(learning_rate=0.05, max_depth=4, max_features=0.1,\n",
    "                           min_samples_leaf=100, n_estimators=200)\n",
    "gbc.fit(X_train, y_train)"
   ]
  },
  {
   "cell_type": "markdown",
   "metadata": {},
   "source": [
    "Use cross validation to determine ROC_AUC score for training and testing data"
   ]
  },
  {
   "cell_type": "code",
   "execution_count": 24,
   "metadata": {},
   "outputs": [
    {
     "name": "stdout",
     "output_type": "stream",
     "text": [
      "Mean cross validation test score: 0.5\n",
      "Mean cross validation train score: 0.8549077303431399\n",
      "0.7773109243697479\n"
     ]
    }
   ],
   "source": [
    "cv_scores_test= cross_val_score(gbc,X_test,y_test,cv=5,scoring='roc_auc')\n",
    "cv_scores_train= cross_val_score(gbc,X_train,y_train,cv=5,scoring='roc_auc')\n",
    "\n",
    "cv_scores_gbc_test= cv_scores_test.mean()\n",
    "cv_scores_gbc_train= cv_scores_train.mean()\n",
    "\n",
    "print ('Mean cross validation test score: ' +str(cv_scores_gbc_test))\n",
    "print ('Mean cross validation train score: ' +str(cv_scores_gbc_train))\n",
    "\n",
    "Accuracy_gbc=gbc.score(X_test,y_test)\n",
    "print(Accuracy_gbc)"
   ]
  },
  {
   "cell_type": "code",
   "execution_count": 25,
   "metadata": {},
   "outputs": [
    {
     "name": "stdout",
     "output_type": "stream",
     "text": [
      "   Features  Importance scores\n",
      "0         w           0.001458\n",
      "1         l           0.011729\n",
      "2       g_x           0.012839\n",
      "3      gs_x           0.013706\n",
      "4        cg           0.014751\n",
      "5       sho           0.014830\n",
      "6        sv           0.019214\n",
      "7    ipouts           0.020057\n",
      "8       h_x           0.021450\n",
      "9        er           0.023834\n",
      "10     hr_x           0.026784\n",
      "11     bb_x           0.027591\n",
      "12     so_x           0.036045\n",
      "13    baopp           0.036861\n",
      "14      era           0.039552\n",
      "15    ibb_x           0.042196\n",
      "16       wp           0.049367\n",
      "17    hbp_x           0.049675\n",
      "18       bk           0.055255\n",
      "19      bfp           0.058556\n",
      "20       gf           0.064515\n",
      "21      r_x           0.075677\n",
      "22   weight           0.099454\n",
      "23   height           0.184604\n"
     ]
    },
    {
     "data": {
      "image/png": "[encoded data removed]",
      "text/plain": [
       "<Figure size 720x360 with 1 Axes>"
      ]
     },
     "metadata": {
      "needs_background": "light"
     },
     "output_type": "display_data"
    }
   ],
   "source": [
    "features = X\n",
    "importances = list(gbc.feature_importances_)\n",
    "imp=np.sort(importances)\n",
    "tab=pd.DataFrame(list(zip(X,imp)),columns =['Features', 'Importance scores']) \n",
    "print(tab)\n",
    "\n",
    "plt.figure(figsize=(10,5))\n",
    "indices = np.argsort(importances)\n",
    "index = [0,1,2,3,4,5,6,7,8,9,10,11,12,13,14,15,16,17,18,19,20,21,22,23]\n",
    "_=plt.barh(index,imp, align='center',color='gold',edgecolor='k')\n",
    "plt.xlabel('Relative Importance',fontsize=15)\n",
    "plt.ylabel('Features',fontsize=15)\n",
    "plt.yticks(index, features)\n",
    "plt.title('Feature Importances for Gradient boost Classifier model',fontsize=15)\n",
    "plt.show()"
   ]
  },
  {
   "cell_type": "markdown",
   "metadata": {},
   "source": [
    "**Model Comparison**"
   ]
  },
  {
   "cell_type": "code",
   "execution_count": 26,
   "metadata": {},
   "outputs": [
    {
     "name": "stdout",
     "output_type": "stream",
     "text": [
      "             Algorithm  Model accuracy score\n",
      "0  Logistic Regression              0.827731\n",
      "1                  SVM              0.798319\n",
      "2        Random Forest              0.802521\n",
      "3       Gradient Boost              0.777311\n"
     ]
    },
    {
     "data": {
      "text/html": [
       "<div>\n",
       "<style scoped>\n",
       "    .dataframe tbody tr th:only-of-type {\n",
       "        vertical-align: middle;\n",
       "    }\n",
       "\n",
       "    .dataframe tbody tr th {\n",
       "        vertical-align: top;\n",
       "    }\n",
       "\n",
       "    .dataframe thead th {\n",
       "        text-align: right;\n",
       "    }\n",
       "</style>\n",
       "<table border=\"1\" class=\"dataframe\">\n",
       "  <thead>\n",
       "    <tr style=\"text-align: right;\">\n",
       "      <th></th>\n",
       "      <th>Algorithm</th>\n",
       "      <th>ROC-AUC train score</th>\n",
       "      <th>ROC-AUC test score</th>\n",
       "    </tr>\n",
       "  </thead>\n",
       "  <tbody>\n",
       "    <tr>\n",
       "      <th>0</th>\n",
       "      <td>Logistic Regression</td>\n",
       "      <td>0.806241</td>\n",
       "      <td>0.701221</td>\n",
       "    </tr>\n",
       "    <tr>\n",
       "      <th>1</th>\n",
       "      <td>SVM</td>\n",
       "      <td>0.870392</td>\n",
       "      <td>0.782997</td>\n",
       "    </tr>\n",
       "    <tr>\n",
       "      <th>2</th>\n",
       "      <td>Random Forest</td>\n",
       "      <td>0.864466</td>\n",
       "      <td>0.785185</td>\n",
       "    </tr>\n",
       "    <tr>\n",
       "      <th>3</th>\n",
       "      <td>Gradient Boost</td>\n",
       "      <td>0.854908</td>\n",
       "      <td>0.500000</td>\n",
       "    </tr>\n",
       "  </tbody>\n",
       "</table>\n",
       "</div>"
      ],
      "text/plain": [
       "             Algorithm  ROC-AUC train score  ROC-AUC test score\n",
       "0  Logistic Regression             0.806241            0.701221\n",
       "1                  SVM             0.870392            0.782997\n",
       "2        Random Forest             0.864466            0.785185\n",
       "3       Gradient Boost             0.854908            0.500000"
      ]
     },
     "execution_count": 26,
     "metadata": {},
     "output_type": "execute_result"
    }
   ],
   "source": [
    "myLabels = [ 'Logistic Regression','SVM','Random Forest','Gradient Boost']\n",
    "score_test= [  cv_scores_lr_test,cv_scores_svm_test,cv_scores_rf_test,cv_scores_gbc_test]\n",
    "score_train= [  cv_scores_lr_train,cv_scores_svm_train,cv_scores_rf_train,cv_scores_gbc_train]\n",
    "Accuracy_score = [Accuracy_lr,Accuracy_svm,Accuracy_rf,Accuracy_gbc]\n",
    "\n",
    "score_tab_acc = pd.DataFrame(list(zip(myLabels, Accuracy_score)), \n",
    "               columns =['Algorithm', 'Model accuracy score']) \n",
    "\n",
    "score_tab = pd.DataFrame(list(zip(myLabels, score_train, score_test)), \n",
    "               columns =['Algorithm', 'ROC-AUC train score', 'ROC-AUC test score' ]) \n",
    "print(score_tab_acc)\n",
    "\n",
    "score_tab"
   ]
  },
  {
   "cell_type": "markdown",
   "metadata": {},
   "source": [
    "Read in ineligible pitchers dataframe"
   ]
  },
  {
   "cell_type": "code",
   "execution_count": 27,
   "metadata": {},
   "outputs": [],
   "source": [
    "df_ineligible_pitchers = pd.read_csv('~/Desktop/Springboard/CapstoneThree/data/final/ineligible_pitchers.csv')"
   ]
  },
  {
   "cell_type": "markdown",
   "metadata": {},
   "source": [
    "Use our Random Forest model to predict which players will receive a nomination in the future"
   ]
  },
  {
   "cell_type": "code",
   "execution_count": 28,
   "metadata": {},
   "outputs": [],
   "source": [
    "X = df_ineligible_pitchers.drop(['player_id','HoF_nomination'], axis=1)\n",
    "X[['w', 'l', 'g_x', 'gs_x', 'cg', 'sho', 'sv', 'ipouts', 'h_x', 'er', 'hr_x', 'bb_x', 'so_x', 'baopp', 'era', 'ibb_x', 'wp', 'hbp_x', 'bk', 'bfp', 'gf', 'r_x', 'weight', 'height']] = scaler_x.fit_transform(X[['w', 'l', 'g_x', 'gs_x', 'cg', 'sho', 'sv', 'ipouts', 'h_x', 'er', 'hr_x', 'bb_x', 'so_x', 'baopp', 'era', 'ibb_x', 'wp', 'hbp_x', 'bk', 'bfp', 'gf', 'r_x', 'weight', 'height']])\n",
    "\n",
    "ineligible_pitcher_HoF_prediction=rf.predict(X)"
   ]
  },
  {
   "cell_type": "markdown",
   "metadata": {},
   "source": [
    "Concatenate nomination predictions with player_id, then merge these with the names of the players that correspond with each player_id"
   ]
  },
  {
   "cell_type": "code",
   "execution_count": 29,
   "metadata": {},
   "outputs": [],
   "source": [
    "HoF_Predictions = pd.concat([df_ineligible_pitchers['player_id'], pd.Series(ineligible_pitcher_HoF_prediction)],axis=1).set_index('player_id')"
   ]
  },
  {
   "cell_type": "code",
   "execution_count": 30,
   "metadata": {},
   "outputs": [],
   "source": [
    "df_players = pd.read_csv('~/Desktop/Springboard/CapstoneThree/data/raw/player.csv')\n",
    "names = df_players[['player_id','name_first','name_last']]\n",
    "\n",
    "df_predictions = pd.merge(left=HoF_Predictions, right=names, on='player_id')\n",
    "df_predictions.rename(columns={ df_predictions.columns[1]: \"nomination\" }, inplace = True)"
   ]
  },
  {
   "cell_type": "markdown",
   "metadata": {},
   "source": [
    "Print entire dataframe, starting with the players that are predicted to be nominated to HoF"
   ]
  },
  {
   "cell_type": "code",
   "execution_count": 31,
   "metadata": {},
   "outputs": [
    {
     "name": "stdout",
     "output_type": "stream",
     "text": [
      "     player_id  nomination   name_first     name_last\n",
      "115    leecl02         1.0        Cliff           Lee\n",
      "165  papeljo01         1.0     Jonathan      Papelbon\n",
      "156  nolasri01         1.0        Ricky       Nolasco\n",
      "154  nathajo01         1.0          Joe        Nathan\n",
      "148  moyerja01         1.0        Jamie         Moyer\n",
      "146  millwke01         1.0        Kevin      Millwood\n",
      "125  lohseky01         1.0         Kyle         Lohse\n",
      "118  lidgebr01         1.0         Brad         Lidge\n",
      "116  lestejo01         1.0          Jon        Lester\n",
      "111  lackejo01         1.0         John        Lackey\n",
      "107  jimenub01         1.0       Ubaldo       Jimenez\n",
      "103  isrinja01         1.0        Jason  Isringhausen\n",
      "102  hudsoti01         1.0          Tim        Hudson\n",
      "99   hernali01         1.0        Livan     Hernandez\n",
      "98   hernafe02         1.0        Felix     Hernandez\n",
      "95   harenda01         1.0          Dan         Haren\n",
      "94   haranaa01         1.0        Aaron        Harang\n",
      "92   hamelco01         1.0         Cole        Hamels\n",
      "90   hallaro01         1.0          Roy      Halladay\n",
      "86   greinza01         1.0         Zack       Greinke\n",
      "75   garlajo01         1.0          Jon       Garland\n",
      "162  oswalro01         1.0          Roy        Oswalt\n",
      "167  peavyja01         1.0         Jake         Peavy\n",
      "45   cordefr01         1.0    Francisco       Cordero\n",
      "174  pettian01         1.0         Andy      Pettitte\n",
      "228  zambrca01         1.0       Carlos      Zambrano\n",
      "221  wilsocj01         1.0        C. J.        Wilson\n",
      "216  weaveje02         1.0        Jered        Weaver\n",
      "215  wakefti01         1.0          Tim     Wakefield\n",
      "214  wainwad01         1.0         Adam    Wainwright\n",
      "210  verlaju01         1.0       Justin     Verlander\n",
      "209  vazquja01         1.0       Javier       Vazquez\n",
      "207  valvejo01         1.0         Jose      Valverde\n",
      "202  swishni01         1.0         Nick       Swisher\n",
      "199  streehu01         1.0       Huston        Street\n",
      "196  shielja02         1.0        James       Shields\n",
      "195  sheetbe01         1.0          Ben        Sheets\n",
      "192  santajo01         1.0        Johan       Santana\n",
      "191  santaer01         1.0        Ervin       Santana\n",
      "189  sabatcc01         1.0           CC      Sabathia\n",
      "184  rodrifr03         1.0    Francisco     Rodriguez\n",
      "183  rodnefe01         1.0     Fernando        Rodney\n",
      "182  riverma01         1.0      Mariano        Rivera\n",
      "176   putzjj01         1.0        J. J.          Putz\n",
      "73   garcifr02         1.0       Freddy        Garcia\n",
      "229   zitoba01         1.0        Barry          Zito\n",
      "19   billich01         1.0         Chad   Billingsley\n",
      "5    arroybr01         1.0      Bronson        Arroyo\n",
      "32    cainma01         1.0         Matt          Cain\n",
      "37   carpech01         1.0        Chris     Carpenter\n",
      "28   burneaj01         1.0        A. J.       Burnett\n",
      "27   buehrma01         1.0         Mark       Buehrle\n",
      "42   colonba01         1.0      Bartolo         Colon\n",
      "12   beckejo02         1.0         Josh       Beckett\n",
      "22   bondeje01         0.0       Jeremy     Bonderman\n",
      "168  pelfrmi01         0.0         Mike       Pelfrey\n",
      "169  pennybr01         0.0         Brad         Penny\n",
      "170  peraljo01         0.0         Joel       Peralta\n",
      "171  perezol01         0.0       Oliver         Perez\n",
      "172  perkigl01         0.0         Glen       Perkins\n",
      "175  pineijo01         0.0         Joel       Pineiro\n",
      "173  petityu01         0.0     Yusmeiro         Petit\n",
      "21   blantjo01         0.0          Joe       Blanton\n",
      "23   bootcch01         0.0        Chris     Bootcheck\n",
      "20   blacktr01         0.0       Travis      Blackley\n",
      "177  quallch01         0.0         Chad        Qualls\n",
      "178  raburry01         0.0         Ryan        Raburn\n",
      "179  rauchjo01         0.0          Jon         Rauch\n",
      "180  reyesde01         0.0       Dennys         Reyes\n",
      "181  rhodear01         0.0       Arthur        Rhodes\n",
      "166  pavanca01         0.0         Carl        Pavano\n",
      "46   correke01         0.0        Kevin       Correia\n",
      "164  padilvi01         0.0      Vicente       Padilla\n",
      "18   betanra01         0.0       Rafael    Betancourt\n",
      "142  mcdonjo03         0.0         John      McDonald\n",
      "143  mcgowdu01         0.0       Dustin       McGowan\n",
      "144  millean01         0.0       Andrew        Miller\n",
      "145  milletr02         0.0       Trever        Miller\n",
      "147   motagu01         0.0    Guillermo          Mota\n",
      "149  moylape01         0.0        Peter        Moylan\n",
      "150  mujiced01         0.0       Edward        Mujica\n",
      "151  murphda07         0.0        David        Murphy\n",
      "152  myersbr01         0.0        Brett         Myers\n",
      "153  narvech01         0.0        Chris      Narveson\n",
      "26   broxtjo01         0.0     Jonathan       Broxton\n",
      "155  neshepa01         0.0          Pat        Neshek\n",
      "25   breslcr01         0.0        Craig       Breslow\n",
      "157  nunezle01         0.0  Juan Carlos        Oviedo\n",
      "158  oflaher01         0.0         Eric    O'Flaherty\n",
      "159  ohmanwi01         0.0         Will         Ohman\n",
      "160  oliveda02         0.0       Darren        Oliver\n",
      "161  ortizra01         0.0        Ramon         Ortiz\n",
      "24   boyerbl01         0.0       Blaine         Boyer\n",
      "163  overbly01         0.0         Lyle       Overbay\n",
      "185  rodriwa01         0.0        Wandy     Rodriguez\n",
      "17   benoijo01         0.0      Joaquin        Benoit\n",
      "140  mccarbr01         0.0      Brandon      McCarthy\n",
      "8     baezda01         0.0        Danys          Baez\n",
      "7    ayalalu01         0.0         Luis         Ayala\n",
      "211  villaca01         0.0       Carlos    Villanueva\n",
      "212  vogelry01         0.0         Ryan     Vogelsong\n",
      "213  volqued01         0.0      Edinson       Volquez\n",
      "6    atchisc01         0.0        Scott      Atchison\n",
      "4    ankieri01         0.0         Rick        Ankiel\n",
      "217  wellski01         0.0          Kip         Wells\n",
      "218  westbja01         0.0         Jake     Westbrook\n",
      "219  wheelda01         0.0          Dan       Wheeler\n",
      "220  willije02         0.0       Jerome      Williams\n",
      "3    alberma01         0.0         Matt        Albers\n",
      "222  wilsojo03         0.0         Josh        Wilson\n",
      "223   wisede01         0.0      Dewayne          Wise\n",
      "224   wolfra02         0.0        Randy          Wolf\n",
      "225   woodke02         0.0        Kerry          Wood\n",
      "226  wrighja01         0.0        Jamey        Wright\n",
      "227  youngch03         0.0        Chris         Young\n",
      "2    affelje01         0.0       Jeremy       Affeldt\n",
      "208  vargaja01         0.0        Jason        Vargas\n",
      "9    bakersc02         0.0        Scott         Baker\n",
      "206   tsaoch01         0.0     Chin-hui          Tsao\n",
      "194  schumsk01         0.0         Skip     Schumaker\n",
      "186  romerjc01         0.0        J. C.        Romero\n",
      "187   rossco01         0.0         Cody          Ross\n",
      "188   rossda01         0.0        David          Ross\n",
      "16    bellhe01         0.0        Heath          Bell\n",
      "190  sanchan01         0.0       Anibal       Sanchez\n",
      "15   belisma01         0.0         Matt       Belisle\n",
      "14   beimejo01         0.0          Joe        Beimel\n",
      "193  saundjo01         0.0          Joe      Saunders\n",
      "13   bedarer01         0.0         Erik        Bedard\n",
      "205  tomkobr01         0.0        Brett         Tomko\n",
      "197  soriara01         0.0       Rafael       Soriano\n",
      "198  staufti01         0.0          Tim      Stauffer\n",
      "11   batismi01         0.0       Miguel       Batista\n",
      "200  suppaje01         0.0         Jeff        Suppan\n",
      "201  suzukic01         0.0       Ichiro        Suzuki\n",
      "10   balfogr01         0.0        Grant       Balfour\n",
      "203  thomabr01         0.0         Brad        Thomas\n",
      "204  thornma01         0.0         Matt      Thornton\n",
      "141  mcdonda02         0.0      Darnell      McDonald\n",
      "138  masseni01         0.0         Nick        Masset\n",
      "139  mathije01         0.0         Jeff        Mathis\n",
      "69   francje02         0.0         Jeff     Francoeur\n",
      "71   frasoja01         0.0        Jason        Frasor\n",
      "72   fuentbr01         0.0        Brian       Fuentes\n",
      "44    cookaa01         0.0        Aaron          Cook\n",
      "74   garcija01         0.0     Santiago       Casilla\n",
      "43   contrjo01         0.0         Jose     Contreras\n",
      "76   garzama01         0.0         Matt         Garza\n",
      "77   gaudich01         0.0         Chad        Gaudin\n",
      "78   germaju01         0.0       Justin       Germano\n",
      "79   gloadro01         0.0         Ross         Gload\n",
      "80   gomesjo01         0.0        Jonny         Gomes\n",
      "81   gonzaed01         0.0        Edgar      Gonzalez\n",
      "82   gonzami02         0.0         Mike      Gonzalez\n",
      "83   gorzeto01         0.0          Tom    Gorzelanny\n",
      "84   greenni01         0.0         Nick         Green\n",
      "85   greggke01         0.0        Kevin         Gregg\n",
      "87   grillja01         0.0        Jason        Grilli\n",
      "88   guerrma02         0.0         Matt      Guerrier\n",
      "89   guthrje01         0.0       Jeremy       Guthrie\n",
      "41   choatra01         0.0        Randy        Choate\n",
      "70   frankry01         0.0         Ryan      Franklin\n",
      "68   francje01         0.0         Jeff       Francis\n",
      "47   cottsne01         0.0         Neal         Cotts\n",
      "67   francfr01         0.0        Frank     Francisco\n",
      "48    cruzju02         0.0         Juan          Cruz\n",
      "49   cuddymi01         0.0      Michael       Cuddyer\n",
      "50   davieky01         0.0         Kyle        Davies\n",
      "51   davisdo02         0.0         Doug         Davis\n",
      "52   delarjo01         0.0        Jorge    De La Rosa\n",
      "53   dempsry01         0.0         Ryan      Dempster\n",
      "54   denorch01         0.0        Chris      Denorfia\n",
      "55   dickera01         0.0        R. A.        Dickey\n",
      "56   doteloc01         0.0      Octavio         Dotel\n",
      "57   downssc01         0.0        Scott         Downs\n",
      "58    dukeza01         0.0         Zach          Duke\n",
      "59    dunnad01         0.0         Adam          Dunn\n",
      "60   durbich01         0.0         Chad        Durbin\n",
      "61   evelada01         0.0         Dana       Eveland\n",
      "62   farnsky01         0.0         Kyle    Farnsworth\n",
      "63   feldmsc01         0.0        Scott       Feldman\n",
      "64   felicpe01         0.0        Pedro     Feliciano\n",
      "65   figuene01         0.0       Nelson      Figueroa\n",
      "66   floydga01         0.0        Gavin         Floyd\n",
      "91    hallbi03         0.0         Bill          Hall\n",
      "40    chenbr01         0.0        Bruce          Chen\n",
      "93   hammeja01         0.0        Jason        Hammel\n",
      "39   carroja01         0.0        Jamey       Carroll\n",
      "119  lillyte01         0.0          Ted         Lilly\n",
      "120  linebsc01         0.0        Scott     Linebrink\n",
      "121  liriafr01         0.0    Francisco       Liriano\n",
      "122    loeka01         0.0      Kameron           Loe\n",
      "123  loewead01         0.0         Adam        Loewen\n",
      "124  loganbo02         0.0        Boone         Logan\n",
      "29   burnese01         0.0         Sean       Burnett\n",
      "126  lopezfe01         0.0       Felipe         Lopez\n",
      "127  lopezja02         0.0       Javier         Lopez\n",
      "128  lopezro01         0.0      Rodrigo         Lopez\n",
      "129   louxsh01         0.0        Shane          Loux\n",
      "130   lowede01         0.0        Derek          Lowe\n",
      "131   lowema01         0.0         Mark          Lowe\n",
      "132   lyonbr01         0.0      Brandon          Lyon\n",
      "133  macdomi01         0.0         Mike     MacDougal\n",
      "134  madsory01         0.0         Ryan        Madson\n",
      "135  marcush01         0.0        Shaun        Marcum\n",
      "136  marquja01         0.0        Jason       Marquis\n",
      "137  martean01         0.0         Andy         Marte\n",
      "30   burrose01         0.0         Sean     Burroughs\n",
      "117  lewisco01         0.0        Colby         Lewis\n",
      "31   byrdati01         0.0          Tim        Byrdak\n",
      "104  jacksed01         0.0        Edwin       Jackson\n",
      "38   carradj01         0.0        D. J.      Carrasco\n",
      "96   hawkila01         0.0       LaTroy       Hawkins\n",
      "97   hendrma01         0.0         Mark   Hendrickson\n",
      "36   carmofa01         0.0      Roberto     Hernandez\n",
      "100   hillri01         0.0         Rich          Hill\n",
      "101  howeljp01         0.0        J. P.        Howell\n",
      "35   carlybu01         0.0        Buddy       Carlyle\n",
      "34   capuach01         0.0        Chris       Capuano\n",
      "105  janssca01         0.0        Casey       Janssen\n",
      "1    adamsmi03         0.0         Mike         Adams\n",
      "106  jimence01         0.0        Cesar       Jimenez\n",
      "33    campsh01         0.0        Shawn          Camp\n",
      "108  johnsji04         0.0          Jim       Johnson\n",
      "109  kazmisc01         0.0        Scott        Kazmir\n",
      "110  kensilo01         0.0        Logan       Kensing\n",
      "112   laneja01         0.0        Jason          Lane\n",
      "113  larocad01         0.0         Adam       LaRoche\n",
      "114  leagubr01         0.0      Brandon        League\n",
      "0    aardsda01         0.0        David       Aardsma\n"
     ]
    }
   ],
   "source": [
    "with pd.option_context('display.max_rows', None, 'display.max_columns', None):\n",
    "    print(df_predictions.sort_values(by='nomination', ascending=False))"
   ]
  }
 ],
 "metadata": {
  "kernelspec": {
   "display_name": "Python 3",
   "language": "python",
   "name": "python3"
  },
  "language_info": {
   "codemirror_mode": {
    "name": "ipython",
    "version": 3
   },
   "file_extension": ".py",
   "mimetype": "text/x-python",
   "name": "python",
   "nbconvert_exporter": "python",
   "pygments_lexer": "ipython3",
   "version": "3.7.6"
  }
 },
 "nbformat": 4,
 "nbformat_minor": 4
}
