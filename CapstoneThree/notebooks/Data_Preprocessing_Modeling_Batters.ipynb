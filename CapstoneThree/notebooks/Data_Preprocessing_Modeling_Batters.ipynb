{
 "cells": [
  {
   "cell_type": "code",
   "execution_count": 1,
   "metadata": {},
   "outputs": [
    {
     "name": "stdout",
     "output_type": "stream",
     "text": [
      "<class 'pandas.core.frame.DataFrame'>\n",
      "RangeIndex: 1477 entries, 0 to 1476\n",
      "Data columns (total 17 columns):\n",
      " #   Column          Non-Null Count  Dtype  \n",
      "---  ------          --------------  -----  \n",
      " 0   player_id       1477 non-null   object \n",
      " 1   g_y             1477 non-null   float64\n",
      " 2   ab              1477 non-null   float64\n",
      " 3   r_y             1477 non-null   float64\n",
      " 4   h_y             1477 non-null   float64\n",
      " 5   double          1477 non-null   float64\n",
      " 6   triple          1477 non-null   float64\n",
      " 7   hr_y            1477 non-null   float64\n",
      " 8   rbi             1477 non-null   float64\n",
      " 9   sb              1477 non-null   float64\n",
      " 10  bb_y            1477 non-null   float64\n",
      " 11  so_y            1477 non-null   float64\n",
      " 12  hbp_y           1477 non-null   float64\n",
      " 13  sh_y            1477 non-null   float64\n",
      " 14  weight          1477 non-null   float64\n",
      " 15  height          1477 non-null   float64\n",
      " 16  HoF_nomination  1477 non-null   float64\n",
      "dtypes: float64(16), object(1)\n",
      "memory usage: 196.3+ KB\n"
     ]
    }
   ],
   "source": [
    "import numpy as np\n",
    "import pandas as pd\n",
    "import matplotlib.pyplot as plt\n",
    "import warnings\n",
    "warnings.filterwarnings('ignore')\n",
    "\n",
    "from sklearn.preprocessing import StandardScaler\n",
    "from sklearn.model_selection import train_test_split\n",
    "from sklearn.model_selection import cross_val_score\n",
    "from sklearn.preprocessing import MinMaxScaler\n",
    "from sklearn.model_selection import GridSearchCV\n",
    "from sklearn.metrics import accuracy_score\n",
    "from sklearn.metrics import confusion_matrix\n",
    "from sklearn.metrics import classification_report\n",
    "\n",
    "df_batters = pd.read_csv('~/Desktop/Springboard/CapstoneThree/data/final/batters.csv')\n",
    "df_batters.info()"
   ]
  },
  {
   "cell_type": "code",
   "execution_count": 2,
   "metadata": {},
   "outputs": [],
   "source": [
    "y = df_batters['HoF_nomination']\n",
    "X = df_batters.drop(['player_id','HoF_nomination'], axis=1)\n",
    "\n",
    "X_train, X_test, y_train, y_test = train_test_split(X, y, test_size=0.2, random_state=42)\n",
    "\n",
    "scaler_x = MinMaxScaler((-1,1))\n",
    "X_train[['g_y', 'ab', 'r_y', 'h_y', 'double', 'triple', 'hr_y', 'rbi', 'sb', 'bb_y', 'so_y', 'hbp_y', 'sh_y', 'weight', 'height']] = scaler_x.fit_transform(X_train[['g_y', 'ab', 'r_y', 'h_y', 'double', 'triple', 'hr_y', 'rbi', 'sb', 'bb_y', 'so_y', 'hbp_y', 'sh_y', 'weight', 'height']])\n",
    "X_test[['g_y', 'ab', 'r_y', 'h_y', 'double', 'triple', 'hr_y', 'rbi', 'sb', 'bb_y', 'so_y', 'hbp_y', 'sh_y', 'weight', 'height']] = scaler_x.transform(X_test[['g_y', 'ab', 'r_y', 'h_y', 'double', 'triple', 'hr_y', 'rbi', 'sb', 'bb_y', 'so_y', 'hbp_y', 'sh_y', 'weight', 'height']])"
   ]
  },
  {
   "cell_type": "markdown",
   "metadata": {},
   "source": [
    "We want to predict whether or not each player will receive a Hall of Fame nomination. Therefore, this is a classification problem and we will try four different kinds of classification models: Logistic Regression, Support Vector Machine (SVM), Random Forest, and Gradient Boosted Trees "
   ]
  },
  {
   "cell_type": "markdown",
   "metadata": {},
   "source": [
    "**Logistic Regression**"
   ]
  },
  {
   "cell_type": "code",
   "execution_count": 3,
   "metadata": {},
   "outputs": [
    {
     "data": {
      "text/html": [
       "<div>\n",
       "<style scoped>\n",
       "    .dataframe tbody tr th:only-of-type {\n",
       "        vertical-align: middle;\n",
       "    }\n",
       "\n",
       "    .dataframe tbody tr th {\n",
       "        vertical-align: top;\n",
       "    }\n",
       "\n",
       "    .dataframe thead th {\n",
       "        text-align: right;\n",
       "    }\n",
       "</style>\n",
       "<table border=\"1\" class=\"dataframe\">\n",
       "  <thead>\n",
       "    <tr style=\"text-align: right;\">\n",
       "      <th></th>\n",
       "      <th>C_parameter</th>\n",
       "      <th>Accuracy</th>\n",
       "    </tr>\n",
       "  </thead>\n",
       "  <tbody>\n",
       "    <tr>\n",
       "      <th>0</th>\n",
       "      <td>0.001</td>\n",
       "      <td>0.685811</td>\n",
       "    </tr>\n",
       "    <tr>\n",
       "      <th>1</th>\n",
       "      <td>0.010</td>\n",
       "      <td>0.797297</td>\n",
       "    </tr>\n",
       "    <tr>\n",
       "      <th>2</th>\n",
       "      <td>0.100</td>\n",
       "      <td>0.804054</td>\n",
       "    </tr>\n",
       "    <tr>\n",
       "      <th>3</th>\n",
       "      <td>1.000</td>\n",
       "      <td>0.810811</td>\n",
       "    </tr>\n",
       "    <tr>\n",
       "      <th>4</th>\n",
       "      <td>10.000</td>\n",
       "      <td>0.793919</td>\n",
       "    </tr>\n",
       "    <tr>\n",
       "      <th>5</th>\n",
       "      <td>100.000</td>\n",
       "      <td>0.787162</td>\n",
       "    </tr>\n",
       "  </tbody>\n",
       "</table>\n",
       "</div>"
      ],
      "text/plain": [
       "   C_parameter  Accuracy\n",
       "0        0.001  0.685811\n",
       "1        0.010  0.797297\n",
       "2        0.100  0.804054\n",
       "3        1.000  0.810811\n",
       "4       10.000  0.793919\n",
       "5      100.000  0.787162"
      ]
     },
     "execution_count": 3,
     "metadata": {},
     "output_type": "execute_result"
    }
   ],
   "source": [
    "from sklearn.linear_model import LogisticRegression\n",
    "\n",
    "C_param_range = [0.001,0.01,0.1,1,10,100]\n",
    "\n",
    "table = pd.DataFrame(columns = ['C_parameter','Accuracy'])\n",
    "table['C_parameter'] = C_param_range\n",
    "\n",
    "\n",
    "j = 0\n",
    "for i in C_param_range:\n",
    "    \n",
    "    Logreg = LogisticRegression(C = i,random_state = 42)\n",
    "    Logreg.fit(X_train,y_train)\n",
    "    y_pred_lr = Logreg.predict(X_test)\n",
    "    \n",
    "    table.iloc[j,1] = accuracy_score(y_test,y_pred_lr)\n",
    "    j += 1\n",
    "    \n",
    "table"
   ]
  },
  {
   "cell_type": "markdown",
   "metadata": {},
   "source": [
    "Choose C (inverse of regularization strength) that optimizes accuracy, and create confusion matrix/accuracy score"
   ]
  },
  {
   "cell_type": "code",
   "execution_count": 4,
   "metadata": {},
   "outputs": [
    {
     "name": "stdout",
     "output_type": "stream",
     "text": [
      "[[172  25]\n",
      " [ 31  68]]\n",
      "0.8108108108108109\n"
     ]
    }
   ],
   "source": [
    "Logreg = LogisticRegression(C = 1,random_state = 42)\n",
    "Logreg.fit(X_train,y_train)\n",
    "y_pred_lr = Logreg.predict(X_test)\n",
    "\n",
    "cnf_matrix= confusion_matrix(y_test,y_pred_lr)\n",
    "print(cnf_matrix)\n",
    "Accuracy_lr=Logreg.score(X_test,y_test)\n",
    "\n",
    "print(Accuracy_lr)"
   ]
  },
  {
   "cell_type": "markdown",
   "metadata": {},
   "source": [
    "Use cross validation to determine ROC_AUC score for training and testing data"
   ]
  },
  {
   "cell_type": "code",
   "execution_count": 5,
   "metadata": {},
   "outputs": [
    {
     "name": "stdout",
     "output_type": "stream",
     "text": [
      "Mean cross validation test score: 0.8149018218623482\n",
      "Mean cross validation train score: 0.8371485611956165\n"
     ]
    }
   ],
   "source": [
    "cv_scores_test= cross_val_score(Logreg,X_test,y_test,cv=5,scoring='roc_auc')\n",
    "cv_scores_train= cross_val_score(Logreg,X_train,y_train,cv=5,scoring='roc_auc')\n",
    "\n",
    "cv_scores_lr_test= cv_scores_test.mean()\n",
    "cv_scores_lr_train= cv_scores_train.mean()\n",
    "\n",
    "print ('Mean cross validation test score: ' +str(cv_scores_lr_test))\n",
    "print ('Mean cross validation train score: ' +str(cv_scores_lr_train))"
   ]
  },
  {
   "cell_type": "markdown",
   "metadata": {},
   "source": [
    "**Support Vector Machine**"
   ]
  },
  {
   "cell_type": "code",
   "execution_count": 6,
   "metadata": {},
   "outputs": [
    {
     "name": "stdout",
     "output_type": "stream",
     "text": [
      "[[176  21]\n",
      " [ 38  61]]\n"
     ]
    }
   ],
   "source": [
    "from sklearn.svm import SVC\n",
    "\n",
    "svm = SVC(random_state=42)\n",
    "svm.fit(X_train, y_train)\n",
    "\n",
    "y_predict_svm=svm.predict(X_test)\n",
    "\n",
    "cnf_matrix = confusion_matrix(y_test, y_predict_svm)\n",
    "print(cnf_matrix)"
   ]
  },
  {
   "cell_type": "markdown",
   "metadata": {},
   "source": [
    "SVM Hyperparameter Tuning:"
   ]
  },
  {
   "cell_type": "code",
   "execution_count": 7,
   "metadata": {},
   "outputs": [
    {
     "name": "stdout",
     "output_type": "stream",
     "text": [
      "SVC(C=1000, gamma=0.001, kernel='sigmoid', random_state=42)\n",
      "0.8359986531498477\n"
     ]
    }
   ],
   "source": [
    "svm = SVC(random_state=42)\n",
    "\n",
    "param_grid = { \"C\" : [0.1, 1, 10, 100, 1000], \"gamma\": [1, 0.1, 0.01, 0.001, 0.0001], \"kernel\": ['linear', 'poly', 'rbf', 'sigmoid']}\n",
    "\n",
    "gs = GridSearchCV(estimator=svm, param_grid=param_grid, scoring='roc_auc', n_jobs=-1)\n",
    "\n",
    "gs = gs.fit(X_train, y_train)\n",
    "\n",
    "print(gs.best_estimator_) \n",
    "print(gs.best_score_)"
   ]
  },
  {
   "cell_type": "markdown",
   "metadata": {},
   "source": [
    "Fit model with optimized hyperparameters"
   ]
  },
  {
   "cell_type": "code",
   "execution_count": 8,
   "metadata": {},
   "outputs": [
    {
     "data": {
      "text/plain": [
       "SVC(C=1000, gamma=0.001, kernel='sigmoid', random_state=42)"
      ]
     },
     "execution_count": 8,
     "metadata": {},
     "output_type": "execute_result"
    }
   ],
   "source": [
    "svm = SVC(C=1000, gamma=0.001, kernel='sigmoid', random_state=42)\n",
    "svm.fit(X_train, y_train)"
   ]
  },
  {
   "cell_type": "markdown",
   "metadata": {},
   "source": [
    "Use cross validation to determine ROC_AUC score for training and testing data"
   ]
  },
  {
   "cell_type": "code",
   "execution_count": 9,
   "metadata": {},
   "outputs": [
    {
     "name": "stdout",
     "output_type": "stream",
     "text": [
      "Mean cross validation test score: 0.8055647773279352\n",
      "Mean cross validation train score: 0.8359986531498477\n",
      "0.8040540540540541\n"
     ]
    }
   ],
   "source": [
    "cv_scores_test= cross_val_score(svm,X_test,y_test,cv=5,scoring='roc_auc')\n",
    "cv_scores_train= cross_val_score(svm,X_train,y_train,cv=5,scoring='roc_auc')\n",
    "\n",
    "cv_scores_svm_test= cv_scores_test.mean()\n",
    "cv_scores_svm_train= cv_scores_train.mean()\n",
    "\n",
    "print ('Mean cross validation test score: ' +str(cv_scores_svm_test))\n",
    "print ('Mean cross validation train score: ' +str(cv_scores_svm_train))\n",
    "\n",
    "Accuracy_svm=svm.score(X_test,y_test)\n",
    "print(Accuracy_svm)"
   ]
  },
  {
   "cell_type": "markdown",
   "metadata": {},
   "source": [
    "**Random Forest**"
   ]
  },
  {
   "cell_type": "code",
   "execution_count": 10,
   "metadata": {},
   "outputs": [
    {
     "name": "stdout",
     "output_type": "stream",
     "text": [
      "[[173  24]\n",
      " [ 33  66]]\n"
     ]
    }
   ],
   "source": [
    "from sklearn.ensemble import RandomForestClassifier\n",
    "\n",
    "rf = RandomForestClassifier(random_state=42)\n",
    "rf.fit(X_train, y_train)\n",
    "\n",
    "y_predict_rf = rf.predict(X_test)\n",
    "\n",
    "cnf_matrix = confusion_matrix(y_test, y_predict_rf)\n",
    "print(cnf_matrix)"
   ]
  },
  {
   "cell_type": "markdown",
   "metadata": {},
   "source": [
    "RF Hyperparameter Tuning:"
   ]
  },
  {
   "cell_type": "code",
   "execution_count": 11,
   "metadata": {},
   "outputs": [
    {
     "name": "stdout",
     "output_type": "stream",
     "text": [
      "RandomForestClassifier(min_samples_leaf=5, min_samples_split=16,\n",
      "                       n_estimators=400, random_state=42)\n",
      "0.829076229906717\n"
     ]
    }
   ],
   "source": [
    "rf = RandomForestClassifier(random_state=42)\n",
    "\n",
    "param_grid = { \"criterion\" : [\"gini\", \"entropy\"], \"min_samples_leaf\" : [1, 5, 10], \"min_samples_split\" : [2, 4, 10,12,16], \"n_estimators\": [50, 100,400,700,1000]}\n",
    "\n",
    "gs = GridSearchCV(estimator=rf, param_grid=param_grid, scoring='roc_auc', cv=5, n_jobs=-1)\n",
    "\n",
    "gs = gs.fit(X_train, y_train)\n",
    "\n",
    "print(gs.best_estimator_) \n",
    "print(gs.best_score_)"
   ]
  },
  {
   "cell_type": "markdown",
   "metadata": {},
   "source": [
    "Fit model with optimized hyperparameters"
   ]
  },
  {
   "cell_type": "code",
   "execution_count": 12,
   "metadata": {},
   "outputs": [
    {
     "data": {
      "text/plain": [
       "RandomForestClassifier(min_samples_leaf=5, min_samples_split=16,\n",
       "                       n_estimators=400)"
      ]
     },
     "execution_count": 12,
     "metadata": {},
     "output_type": "execute_result"
    }
   ],
   "source": [
    "rf = RandomForestClassifier(min_samples_leaf=5, min_samples_split=16,\n",
    "                       n_estimators=400)\n",
    "rf.fit(X_train, y_train)"
   ]
  },
  {
   "cell_type": "markdown",
   "metadata": {},
   "source": [
    "Use cross validation to determine ROC_AUC score for training and testing data"
   ]
  },
  {
   "cell_type": "code",
   "execution_count": 13,
   "metadata": {},
   "outputs": [
    {
     "name": "stdout",
     "output_type": "stream",
     "text": [
      "Mean cross validation test score: 0.8162661943319838\n",
      "Mean cross validation train score: 0.8259497196075412\n",
      "0.7972972972972973\n"
     ]
    }
   ],
   "source": [
    "cv_scores_test= cross_val_score(rf,X_test,y_test,cv=5,scoring='roc_auc')\n",
    "cv_scores_train= cross_val_score(rf,X_train,y_train,cv=5,scoring='roc_auc')\n",
    "\n",
    "cv_scores_rf_test= cv_scores_test.mean()\n",
    "cv_scores_rf_train= cv_scores_train.mean()\n",
    "\n",
    "print ('Mean cross validation test score: ' +str(cv_scores_rf_test))\n",
    "print ('Mean cross validation train score: ' +str(cv_scores_rf_train))\n",
    "\n",
    "Accuracy_rf=rf.score(X_test,y_test)\n",
    "print(Accuracy_rf)"
   ]
  },
  {
   "cell_type": "code",
   "execution_count": 14,
   "metadata": {},
   "outputs": [
    {
     "name": "stdout",
     "output_type": "stream",
     "text": [
      "   Features  Importance scores\n",
      "0       g_y           0.013360\n",
      "1        ab           0.021225\n",
      "2       r_y           0.027530\n",
      "3       h_y           0.031745\n",
      "4    double           0.037604\n",
      "5    triple           0.037706\n",
      "6      hr_y           0.041348\n",
      "7       rbi           0.055880\n",
      "8        sb           0.064387\n",
      "9      bb_y           0.074219\n",
      "10     so_y           0.090102\n",
      "11    hbp_y           0.115519\n",
      "12     sh_y           0.126610\n",
      "13   weight           0.128961\n",
      "14   height           0.133802\n"
     ]
    },
    {
     "data": {
      "image/png": "[encoded data removed]",
      "text/plain": [
       "<Figure size 720x360 with 1 Axes>"
      ]
     },
     "metadata": {
      "needs_background": "light"
     },
     "output_type": "display_data"
    }
   ],
   "source": [
    "features = X\n",
    "importances = list(rf.feature_importances_)\n",
    "imp=np.sort(importances)\n",
    "tab=pd.DataFrame(list(zip(X,imp)),columns =['Features', 'Importance scores']) \n",
    "print(tab)\n",
    "\n",
    "plt.figure(figsize=(10,5))\n",
    "indices = np.argsort(importances)\n",
    "index = [0,1,2,3,4,5,6,7,8,9,10,11,12,13,14]\n",
    "_=plt.barh(index,imp, align='center',color='b')\n",
    "plt.xlabel('Relative Importance',fontsize=15)\n",
    "plt.ylabel('Features',fontsize=15)\n",
    "plt.yticks(index, features)\n",
    "plt.title('Feature Importances for Random Forest classifier model',fontsize=15)\n",
    "plt.show()"
   ]
  },
  {
   "cell_type": "markdown",
   "metadata": {},
   "source": [
    "**Gradient Boosting**"
   ]
  },
  {
   "cell_type": "code",
   "execution_count": 15,
   "metadata": {},
   "outputs": [
    {
     "name": "stdout",
     "output_type": "stream",
     "text": [
      "[[173  24]\n",
      " [ 38  61]]\n"
     ]
    }
   ],
   "source": [
    "from sklearn.ensemble import GradientBoostingClassifier\n",
    "gbc = GradientBoostingClassifier(random_state=42)\n",
    "gbc.fit(X_train, y_train)\n",
    "\n",
    "y_predict_gbc = gbc.predict(X_test)\n",
    "\n",
    "cnf_matrix = confusion_matrix(y_test, y_predict_gbc)\n",
    "print(cnf_matrix)"
   ]
  },
  {
   "cell_type": "markdown",
   "metadata": {},
   "source": [
    "GB Hyperparameter Tuning:"
   ]
  },
  {
   "cell_type": "code",
   "execution_count": 16,
   "metadata": {},
   "outputs": [
    {
     "name": "stdout",
     "output_type": "stream",
     "text": [
      "Fitting 5 folds for each of 72 candidates, totalling 360 fits\n"
     ]
    },
    {
     "name": "stderr",
     "output_type": "stream",
     "text": [
      "[Parallel(n_jobs=-1)]: Using backend LokyBackend with 4 concurrent workers.\n",
      "[Parallel(n_jobs=-1)]: Done  42 tasks      | elapsed:    4.1s\n",
      "[Parallel(n_jobs=-1)]: Done 192 tasks      | elapsed:   17.9s\n"
     ]
    },
    {
     "name": "stdout",
     "output_type": "stream",
     "text": [
      "GradientBoostingClassifier(learning_rate=0.05, max_depth=8, max_features=0.1,\n",
      "                           min_samples_leaf=150, random_state=42)\n",
      "0.8276999936583289\n"
     ]
    },
    {
     "name": "stderr",
     "output_type": "stream",
     "text": [
      "[Parallel(n_jobs=-1)]: Done 360 out of 360 | elapsed:   33.4s finished\n"
     ]
    }
   ],
   "source": [
    "gbc = GradientBoostingClassifier(random_state=42)\n",
    "gb_param = {\n",
    "        'loss' : [\"deviance\"],\n",
    "        'n_estimators' : [100,200,300],\n",
    "        'learning_rate': [0.1, 0.05, 0.01],\n",
    "        'max_depth': [4, 8],\n",
    "        'min_samples_leaf': [100,150],\n",
    "        'max_features': [0.3, 0.1] \n",
    "        }\n",
    "\n",
    "gsgbc = GridSearchCV(gbc, param_grid = gb_param, cv=5, scoring=\"roc_auc\", n_jobs= -1, verbose = 1)\n",
    "gsgbc.fit(X_train,y_train)\n",
    "print(gsgbc.best_estimator_)\n",
    "print(gsgbc.best_score_)"
   ]
  },
  {
   "cell_type": "markdown",
   "metadata": {},
   "source": [
    "Fit model with optimized hyperparameters"
   ]
  },
  {
   "cell_type": "code",
   "execution_count": 17,
   "metadata": {},
   "outputs": [
    {
     "data": {
      "text/plain": [
       "GradientBoostingClassifier(learning_rate=0.05, max_depth=8, max_features=0.1,\n",
       "                           min_samples_leaf=150)"
      ]
     },
     "execution_count": 17,
     "metadata": {},
     "output_type": "execute_result"
    }
   ],
   "source": [
    "gbc = GradientBoostingClassifier(learning_rate=0.05, max_depth=8, max_features=0.1,\n",
    "                           min_samples_leaf=150)\n",
    "gbc.fit(X_train, y_train)"
   ]
  },
  {
   "cell_type": "markdown",
   "metadata": {},
   "source": [
    "Use cross validation to determine ROC_AUC score for training and testing data"
   ]
  },
  {
   "cell_type": "code",
   "execution_count": 18,
   "metadata": {},
   "outputs": [
    {
     "name": "stdout",
     "output_type": "stream",
     "text": [
      "Mean cross validation test score: 0.5\n",
      "Mean cross validation train score: 0.8232126271731548\n",
      "0.8040540540540541\n"
     ]
    }
   ],
   "source": [
    "cv_scores_test= cross_val_score(gbc,X_test,y_test,cv=5,scoring='roc_auc')\n",
    "cv_scores_train= cross_val_score(gbc,X_train,y_train,cv=5,scoring='roc_auc')\n",
    "\n",
    "cv_scores_gbc_test= cv_scores_test.mean()\n",
    "cv_scores_gbc_train= cv_scores_train.mean()\n",
    "\n",
    "print ('Mean cross validation test score: ' +str(cv_scores_gbc_test))\n",
    "print ('Mean cross validation train score: ' +str(cv_scores_gbc_train))\n",
    "\n",
    "Accuracy_gbc=gbc.score(X_test,y_test)\n",
    "print(Accuracy_gbc)"
   ]
  },
  {
   "cell_type": "code",
   "execution_count": 19,
   "metadata": {},
   "outputs": [
    {
     "name": "stdout",
     "output_type": "stream",
     "text": [
      "   Features  Importance scores\n",
      "0       g_y           0.005460\n",
      "1        ab           0.013174\n",
      "2       r_y           0.018639\n",
      "3       h_y           0.022189\n",
      "4    double           0.033574\n",
      "5    triple           0.055207\n",
      "6      hr_y           0.059843\n",
      "7       rbi           0.062175\n",
      "8        sb           0.067825\n",
      "9      bb_y           0.077707\n",
      "10     so_y           0.086882\n",
      "11    hbp_y           0.105683\n",
      "12     sh_y           0.126408\n",
      "13   weight           0.127170\n",
      "14   height           0.138064\n"
     ]
    },
    {
     "data": {
      "image/png": "[encoded data removed]",
      "text/plain": [
       "<Figure size 720x360 with 1 Axes>"
      ]
     },
     "metadata": {
      "needs_background": "light"
     },
     "output_type": "display_data"
    }
   ],
   "source": [
    "features = X\n",
    "importances = list(gbc.feature_importances_)\n",
    "imp=np.sort(importances)\n",
    "tab=pd.DataFrame(list(zip(X,imp)),columns =['Features', 'Importance scores']) \n",
    "print(tab)\n",
    "\n",
    "plt.figure(figsize=(10,5))\n",
    "indices = np.argsort(importances)\n",
    "index = [0,1,2,3,4,5,6,7,8,9,10,11,12,13,14]\n",
    "_=plt.barh(index,imp, align='center',color='gold',edgecolor='k')\n",
    "plt.xlabel('Relative Importance',fontsize=15)\n",
    "plt.ylabel('Features',fontsize=15)\n",
    "plt.yticks(index, features)\n",
    "plt.title('Feature Importances for Gradient boost Classifier model',fontsize=15)\n",
    "plt.show()"
   ]
  },
  {
   "cell_type": "markdown",
   "metadata": {},
   "source": [
    "**Model Comparison**"
   ]
  },
  {
   "cell_type": "code",
   "execution_count": 20,
   "metadata": {
    "scrolled": true
   },
   "outputs": [
    {
     "name": "stdout",
     "output_type": "stream",
     "text": [
      "             Algorithm  Model accuracy score\n",
      "0  Logistic Regression              0.810811\n",
      "1                  SVM              0.804054\n",
      "2        Random Forest              0.797297\n",
      "3       Gradient Boost              0.804054\n"
     ]
    },
    {
     "data": {
      "text/html": [
       "<div>\n",
       "<style scoped>\n",
       "    .dataframe tbody tr th:only-of-type {\n",
       "        vertical-align: middle;\n",
       "    }\n",
       "\n",
       "    .dataframe tbody tr th {\n",
       "        vertical-align: top;\n",
       "    }\n",
       "\n",
       "    .dataframe thead th {\n",
       "        text-align: right;\n",
       "    }\n",
       "</style>\n",
       "<table border=\"1\" class=\"dataframe\">\n",
       "  <thead>\n",
       "    <tr style=\"text-align: right;\">\n",
       "      <th></th>\n",
       "      <th>Algorithm</th>\n",
       "      <th>ROC-AUC train score</th>\n",
       "      <th>ROC-AUC test score</th>\n",
       "    </tr>\n",
       "  </thead>\n",
       "  <tbody>\n",
       "    <tr>\n",
       "      <th>0</th>\n",
       "      <td>Logistic Regression</td>\n",
       "      <td>0.837149</td>\n",
       "      <td>0.814902</td>\n",
       "    </tr>\n",
       "    <tr>\n",
       "      <th>1</th>\n",
       "      <td>SVM</td>\n",
       "      <td>0.835999</td>\n",
       "      <td>0.805565</td>\n",
       "    </tr>\n",
       "    <tr>\n",
       "      <th>2</th>\n",
       "      <td>Random Forest</td>\n",
       "      <td>0.825950</td>\n",
       "      <td>0.816266</td>\n",
       "    </tr>\n",
       "    <tr>\n",
       "      <th>3</th>\n",
       "      <td>Gradient Boost</td>\n",
       "      <td>0.823213</td>\n",
       "      <td>0.500000</td>\n",
       "    </tr>\n",
       "  </tbody>\n",
       "</table>\n",
       "</div>"
      ],
      "text/plain": [
       "             Algorithm  ROC-AUC train score  ROC-AUC test score\n",
       "0  Logistic Regression             0.837149            0.814902\n",
       "1                  SVM             0.835999            0.805565\n",
       "2        Random Forest             0.825950            0.816266\n",
       "3       Gradient Boost             0.823213            0.500000"
      ]
     },
     "execution_count": 20,
     "metadata": {},
     "output_type": "execute_result"
    }
   ],
   "source": [
    "myLabels = [ 'Logistic Regression','SVM','Random Forest','Gradient Boost']\n",
    "score_test= [  cv_scores_lr_test,cv_scores_svm_test,cv_scores_rf_test,cv_scores_gbc_test]\n",
    "score_train= [  cv_scores_lr_train,cv_scores_svm_train,cv_scores_rf_train,cv_scores_gbc_train]\n",
    "Accuracy_score = [Accuracy_lr,Accuracy_svm,Accuracy_rf,Accuracy_gbc]\n",
    "\n",
    "score_tab_acc = pd.DataFrame(list(zip(myLabels, Accuracy_score)), \n",
    "               columns =['Algorithm', 'Model accuracy score']) \n",
    "\n",
    "score_tab = pd.DataFrame(list(zip(myLabels, score_train, score_test)), \n",
    "               columns =['Algorithm', 'ROC-AUC train score', 'ROC-AUC test score' ]) \n",
    "print(score_tab_acc)\n",
    "\n",
    "score_tab"
   ]
  },
  {
   "cell_type": "markdown",
   "metadata": {},
   "source": [
    "Read in ineligible batters dataframe"
   ]
  },
  {
   "cell_type": "code",
   "execution_count": 21,
   "metadata": {},
   "outputs": [],
   "source": [
    "df_ineligible_batters = pd.read_csv('~/Desktop/Springboard/CapstoneThree/data/final/ineligible_batters.csv')"
   ]
  },
  {
   "cell_type": "markdown",
   "metadata": {},
   "source": [
    "Use our logistic regression model to predict which players will receive a nomination in the future"
   ]
  },
  {
   "cell_type": "code",
   "execution_count": 22,
   "metadata": {},
   "outputs": [],
   "source": [
    "X = df_ineligible_batters.drop(['player_id','HoF_nomination'], axis=1)\n",
    "X[['g_y', 'ab', 'r_y', 'h_y', 'double', 'triple', 'hr_y', 'rbi', 'sb', 'bb_y', 'so_y', 'hbp_y', 'sh_y', 'weight', 'height']] = scaler_x.fit_transform(X[['g_y', 'ab', 'r_y', 'h_y', 'double', 'triple', 'hr_y', 'rbi', 'sb', 'bb_y', 'so_y', 'hbp_y', 'sh_y', 'weight', 'height']])\n",
    "\n",
    "ineligible_batter_HoF_prediction=Logreg.predict(X)"
   ]
  },
  {
   "cell_type": "markdown",
   "metadata": {},
   "source": [
    "Concatenate nomination predictions with player_id, then merge these with the names of the players that correspond with each player_id"
   ]
  },
  {
   "cell_type": "code",
   "execution_count": 23,
   "metadata": {},
   "outputs": [],
   "source": [
    "HoF_Predictions = pd.concat([df_ineligible_batters['player_id'], pd.Series(ineligible_batter_HoF_prediction)],axis=1).set_index('player_id')"
   ]
  },
  {
   "cell_type": "code",
   "execution_count": 24,
   "metadata": {
    "scrolled": true
   },
   "outputs": [],
   "source": [
    "df_players = pd.read_csv('~/Desktop/Springboard/CapstoneThree/data/raw/player.csv')\n",
    "names = df_players[['player_id','name_first','name_last']]\n",
    "\n",
    "df_predictions = pd.merge(left=HoF_Predictions, right=names, on='player_id')\n",
    "df_predictions.rename(columns={ df_predictions.columns[1]: \"nomination\" }, inplace = True)"
   ]
  },
  {
   "cell_type": "markdown",
   "metadata": {},
   "source": [
    "Print entire dataframe, starting with the players that are predicted to be nominated to HoF"
   ]
  },
  {
   "cell_type": "code",
   "execution_count": 25,
   "metadata": {},
   "outputs": [
    {
     "name": "stdout",
     "output_type": "stream",
     "text": [
      "     player_id  nomination name_first    name_last\n",
      "0    abreubo01         1.0      Bobby        Abreu\n",
      "136  molinya01         1.0     Yadier       Molina\n",
      "123  loneyja01         1.0      James        Loney\n",
      "126  markani01         1.0       Nick     Markakis\n",
      "127  martiru01         1.0    Russell       Martin\n",
      "128  martivi01         1.0     Victor     Martinez\n",
      "129  matsuhi01         1.0     Hideki       Matsui\n",
      "130  mauerjo01         1.0        Joe        Mauer\n",
      "131  mccanbr01         1.0      Brian       McCann\n",
      "137  montemi01         1.0     Miguel      Montero\n",
      "158  peraljh01         1.0     Jhonny      Peralta\n",
      "138  moralke01         1.0    Kendrys      Morales\n",
      "139   morame01         1.0     Melvin         Mora\n",
      "140  morneju01         1.0     Justin      Morneau\n",
      "144  napolmi01         1.0       Mike       Napoli\n",
      "150  ordonma01         1.0    Magglio      Ordonez\n",
      "151  ortizda01         1.0      David        Ortiz\n",
      "154  pedrodu01         1.0     Dustin      Pedroia\n",
      "122   lindad01         1.0       Adam         Lind\n",
      "121    leede02         1.0     Derrek          Lee\n",
      "120    leeca01         1.0     Carlos          Lee\n",
      "114  konerpa01         1.0       Paul      Konerko\n",
      "83   heltoto01         1.0       Todd       Helton\n",
      "84   hernara02         1.0      Ramon    Hernandez\n",
      "85    hillaa01         1.0      Aaron         Hill\n",
      "88   hollima01         1.0       Matt     Holliday\n",
      "89   howarry01         1.0       Ryan       Howard\n",
      "91    huffau01         1.0     Aubrey         Huff\n",
      "92   hunteto01         1.0      Torii       Hunter\n",
      "94   ibanera01         1.0       Raul       Ibanez\n",
      "100  jeterde01         1.0      Derek        Jeter\n",
      "105  jonesad01         1.0       Adam        Jones\n",
      "106  jonesan01         1.0     Andruw        Jones\n",
      "107  jonesch06         1.0    Chipper        Jones\n",
      "109   kempma01         1.0       Matt         Kemp\n",
      "110  kendrho01         1.0      Howie     Kendrick\n",
      "113  kinslia01         1.0        Ian      Kinsler\n",
      "156   penaca01         1.0     Carlos         Pena\n",
      "159  phillbr01         1.0    Brandon     Phillips\n",
      "77   hardyjj01         1.0      J. J.        Hardy\n",
      "210  vizquom01         1.0       Omar      Vizquel\n",
      "196  teixema01         1.0       Mark     Teixeira\n",
      "197  tejadmi01         1.0     Miguel       Tejada\n",
      "199  thomeji01         1.0        Jim        Thome\n",
      "203  tulowtr01         1.0       Troy   Tulowitzki\n",
      "204  ugglada01         1.0        Dan        Uggla\n",
      "205  uptonbj01         1.0     Melvin        Upton\n",
      "207  utleych01         1.0      Chase        Utley\n",
      "212  wellsve01         1.0     Vernon        Wells\n",
      "160  pierrju01         1.0       Juan       Pierre\n",
      "213  werthja01         1.0     Jayson        Werth\n",
      "215  willijo03         1.0       Josh   Willingham\n",
      "218  wrighda03         1.0      David       Wright\n",
      "219  youklke01         1.0      Kevin     Youkilis\n",
      "220  youngch04         1.0      Chris        Young\n",
      "221  youngmi02         1.0    Michael        Young\n",
      "222  zimmery01         1.0       Ryan    Zimmerman\n",
      "192  soriaal01         1.0    Alfonso      Soriano\n",
      "190  sizemgr01         1.0      Grady     Sizemore\n",
      "185  rowanaa01         1.0      Aaron       Rowand\n",
      "184  rolliji01         1.0      Jimmy      Rollins\n",
      "161  pierzaj01         1.0      A. J.   Pierzynski\n",
      "163  polanpl01         1.0    Placido      Polanco\n",
      "164  posadjo01         1.0      Jorge       Posada\n",
      "165  pradoma01         1.0     Martin        Prado\n",
      "166  pujolal01         1.0     Albert       Pujols\n",
      "170  ramirar01         1.0     Aramis      Ramirez\n",
      "171  ramirha01         1.0     Hanley      Ramirez\n",
      "172  ramirma02         1.0      Manny      Ramirez\n",
      "174  renteed01         1.0      Edgar     Renteria\n",
      "175  reyesjo01         1.0       Jose        Reyes\n",
      "176   riosal01         1.0       Alex         Rios\n",
      "180  roberbr01         1.0      Brian      Roberts\n",
      "181  rodrial01         1.0       Alex    Rodriguez\n",
      "182  rodriiv01         1.0       Ivan    Rodriguez\n",
      "183  rolensc01         1.0      Scott        Rolen\n",
      "80    hartco01         1.0      Corey         Hart\n",
      "223  zobribe01         1.0        Ben      Zobrist\n",
      "42   crawfca02         1.0       Carl     Crawford\n",
      "12   beltrca01         1.0     Carlos      Beltran\n",
      "66   gibboja01         1.0        Jay      Gibbons\n",
      "65   giambja01         1.0      Jason       Giambi\n",
      "63   furcara01         1.0     Rafael       Furcal\n",
      "60   figgich01         1.0      Chone      Figgins\n",
      "59   fieldpr01         1.0     Prince      Fielder\n",
      "57   ethiean01         1.0      Andre       Ethier\n",
      "56   encared01         1.0      Edwin  Encarnacion\n",
      "55   ellisma01         1.0       Mark        Ellis\n",
      "53    drewjd01         1.0      J. D.         Drew\n",
      "24   burrepa01         1.0        Pat      Burrell\n",
      "46   damonjo01         1.0     Johnny        Damon\n",
      "26   cabreme01         1.0      Melky      Cabrera\n",
      "27   cabremi01         1.0     Miguel      Cabrera\n",
      "28   cabreor01         1.0    Orlando      Cabrera\n",
      "44    cruzne02         1.0     Nelson         Cruz\n",
      "31   camermi01         1.0       Mike      Cameron\n",
      "43   crispco01         1.0       Coco        Crisp\n",
      "33    canoro01         1.0   Robinson         Cano\n",
      "39    choosh01         1.0   Shin-Soo         Choo\n",
      "13   berkmla01         1.0      Lance      Berkman\n",
      "38   chaveer01         1.0       Eric       Chavez\n",
      "67   gonzaad01         1.0     Adrian     Gonzalez\n",
      "74   hafnetr01         1.0     Travis       Hafner\n",
      "9    bautijo02         1.0       Jose     Bautista\n",
      "10     bayja01         1.0      Jason          Bay\n",
      "69   grandcu01         1.0     Curtis   Granderson\n",
      "70   guerrvl01         1.0   Vladimir     Guerrero\n",
      "3    aybarer01         1.0      Erick        Aybar\n",
      "11   beltrad01         1.0     Adrian       Beltre\n",
      "7    barmecl01         0.0      Clint       Barmes\n",
      "177  riverju01         0.0       Juan       Rivera\n",
      "178  rivermi02         0.0       Mike       Rivera\n",
      "216  wilsoja02         0.0       Jack       Wilson\n",
      "217  woodwch01         0.0      Chris     Woodward\n",
      "179  riverre01         0.0       Rene       Rivera\n",
      "25    byrdma01         0.0     Marlon         Byrd\n",
      "6     bardjo01         0.0       Josh         Bard\n",
      "173  ransoco01         0.0       Cody       Ransom\n",
      "30   callaal01         0.0    Alberto     Callaspo\n",
      "29   cairomi01         0.0     Miguel        Cairo\n",
      "23    buckjo01         0.0       John         Buck\n",
      "5    barajro01         0.0        Rod      Barajas\n",
      "169  quirogu01         0.0  Guillermo       Quiroz\n",
      "168  quinthu01         0.0   Humberto     Quintero\n",
      "4    bakerje03         0.0       Jeff        Baker\n",
      "167  puntoni01         0.0       Nick        Punto\n",
      "32   cancero01         0.0   Robinson       Cancel\n",
      "34   castrju01         0.0       Juan       Castro\n",
      "35   castrra01         0.0      Ramon       Castro\n",
      "162  podsesc01         0.0      Scott    Podsednik\n",
      "36   cedenro02         0.0      Ronny       Cedeno\n",
      "2    amezaal01         0.0    Alfredo      Amezaga\n",
      "214  wiggity01         0.0         Ty    Wigginton\n",
      "20   bournmi01         0.0    Michael        Bourn\n",
      "22   branyru01         0.0    Russell      Branyan\n",
      "21   bradlmi01         0.0     Milton      Bradley\n",
      "14   betemwi01         0.0     Wilson      Betemit\n",
      "202  tracych01         0.0       Chad        Tracy\n",
      "208  varitja01         0.0      Jason      Varitek\n",
      "201  torreyo01         0.0     Yorvit    Torrealba\n",
      "200  torrean02         0.0     Andres       Torres\n",
      "209  victosh01         0.0      Shane    Victorino\n",
      "15   blakeca01         0.0      Casey        Blake\n",
      "198  thamema01         0.0     Marcus       Thames\n",
      "16   blancan01         0.0     Andres       Blanco\n",
      "17   blanche01         0.0      Henry       Blanco\n",
      "195  stewach01         0.0      Chris      Stewart\n",
      "194  stairma01         0.0       Matt       Stairs\n",
      "193   sotoge01         0.0    Geovany         Soto\n",
      "18   bloomwi01         0.0     Willie   Bloomquist\n",
      "37   chaveen01         0.0       Endy       Chavez\n",
      "211  weeksri01         0.0     Rickie        Weeks\n",
      "19    blumge01         0.0      Geoff         Blum\n",
      "189  scutama01         0.0      Marco      Scutaro\n",
      "188  schnebr01         0.0      Brian    Schneider\n",
      "187  santira01         0.0      Ramon     Santiago\n",
      "8    bartlja01         0.0      Jason     Bartlett\n",
      "186   ruizca01         0.0     Carlos         Ruiz\n",
      "206  uribeju01         0.0       Juan        Uribe\n",
      "191  snydech02         0.0      Chris       Snyder\n",
      "78   harribr01         0.0    Brendan       Harris\n",
      "157   penawi01         0.0    Wily Mo         Pena\n",
      "97   ishiktr01         0.0     Travis     Ishikawa\n",
      "115  kotchca01         0.0      Casey     Kotchman\n",
      "61    fordle01         0.0        Lew         Ford\n",
      "1    almoner01         0.0      Erick      Almonte\n",
      "111  kennead01         0.0       Adam      Kennedy\n",
      "62   frandke01         0.0      Kevin     Frandsen\n",
      "108  kearnau01         0.0     Austin       Kearns\n",
      "64   germaes01         0.0    Esteban       German\n",
      "104  johnsre02         0.0       Reed      Johnson\n",
      "103  johnsni01         0.0       Nick      Johnson\n",
      "102  johnske05         0.0      Kelly      Johnson\n",
      "101  johnsda06         0.0        Dan      Johnson\n",
      "99   izturma01         0.0     Maicer      Izturis\n",
      "98   izturce01         0.0      Cesar      Izturis\n",
      "96    ingebr01         0.0    Brandon         Inge\n",
      "117  kubelja01         0.0      Jason        Kubel\n",
      "95   infanom01         0.0       Omar      Infante\n",
      "68   gonzaal02         0.0       Alex     Gonzalez\n",
      "93   iannech01         0.0      Chris     Iannetta\n",
      "90   hudsoor01         0.0    Orlando       Hudson\n",
      "71   guillca01         0.0     Carlos      Guillen\n",
      "72   gutiefr01         0.0   Franklin    Gutierrez\n",
      "87   hinsker01         0.0       Eric       Hinske\n",
      "86    hillko01         0.0      Koyie         Hill\n",
      "73   guzmafr01         0.0     Freddy       Guzman\n",
      "75   hairsje02         0.0      Jerry     Hairston\n",
      "82   helmswe01         0.0        Wes        Helms\n",
      "81   hawpebr01         0.0       Brad        Hawpe\n",
      "76   hairssc01         0.0      Scott     Hairston\n",
      "116  kotsama01         0.0       Mark       Kotsay\n",
      "118  lairdge01         0.0     Gerald        Laird\n",
      "40    coraal01         0.0       Alex         Cora\n",
      "45    custja01         0.0       Jack         Cust\n",
      "155   penabr01         0.0     Brayan         Pena\n",
      "41   counscr01         0.0      Craig     Counsell\n",
      "153  patteco01         0.0      Corey    Patterson\n",
      "152  paganan01         0.0      Angel        Pagan\n",
      "79   harriwi01         0.0     Willie       Harris\n",
      "149  olmedra01         0.0        Ray       Olmedo\n",
      "148  olivomi01         0.0     Miguel        Olivo\n",
      "147    nixla01         0.0     Laynce          Nix\n",
      "146  nievewi01         0.0        Wil       Nieves\n",
      "145  navardi01         0.0     Dioner      Navarro\n",
      "143   nadyxa01         0.0     Xavier         Nady\n",
      "142  murphdo01         0.0     Donnie       Murphy\n",
      "141  morsemi01         0.0       Mike        Morse\n",
      "47   davisra01         0.0      Rajai        Davis\n",
      "119  langery01         0.0       Ryan   Langerhans\n",
      "48   dejesda01         0.0      David      DeJesus\n",
      "49   derosma01         0.0       Mark       DeRosa\n",
      "135  molinjo01         0.0       Jose       Molina\n",
      "134  milleco01         0.0      Corky       Miller\n",
      "133  michaja01         0.0      Jason     Michaels\n",
      "132  mclouna01         0.0       Nate      McLouth\n",
      "50    diazma02         0.0       Matt         Diaz\n",
      "51   dobbsgr01         0.0       Greg        Dobbs\n",
      "52   doumiry01         0.0       Ryan       Doumit\n",
      "54    drewst01         0.0    Stephen         Drew\n",
      "125   lugoju01         0.0      Julio         Lugo\n",
      "124  ludwiry01         0.0       Ryan      Ludwick\n",
      "58   everead01         0.0       Adam      Everett\n",
      "112  keppije01         0.0       Jeff    Keppinger\n"
     ]
    }
   ],
   "source": [
    "with pd.option_context('display.max_rows', None, 'display.max_columns', None):\n",
    "    print(df_predictions.sort_values(by='nomination', ascending=False))"
   ]
  }
 ],
 "metadata": {
  "kernelspec": {
   "display_name": "Python 3",
   "language": "python",
   "name": "python3"
  },
  "language_info": {
   "codemirror_mode": {
    "name": "ipython",
    "version": 3
   },
   "file_extension": ".py",
   "mimetype": "text/x-python",
   "name": "python",
   "nbconvert_exporter": "python",
   "pygments_lexer": "ipython3",
   "version": "3.7.6"
  }
 },
 "nbformat": 4,
 "nbformat_minor": 4
}
